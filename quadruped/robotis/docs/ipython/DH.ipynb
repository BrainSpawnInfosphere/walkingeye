{
 "cells": [
  {
   "cell_type": "markdown",
   "metadata": {},
   "source": [
    "# Quadruped Forward/Inverse Kinematics\n",
    "---\n",
    "Kevin Walchko\n",
    "Created: 24 Oct 2016"
   ]
  },
  {
   "cell_type": "markdown",
   "metadata": {},
   "source": [
    "# Denavit-Hartenberg (DH)\n",
    "\n",
    "Development of the DH forward kinematics for a quadruped robot. We will use the DH method to develop the symbolic equations and use python to simplify them.\n",
    "\n",
    "![](https://github.com/walchko/pyGeckoRobots/blob/master/quadruped/robotis/docs/spider.png?raw=true)\n",
    "\n"
   ]
  },
  {
   "cell_type": "code",
   "execution_count": 25,
   "metadata": {
    "collapsed": false
   },
   "outputs": [],
   "source": [
    "from __future__ import print_function\n",
    "from __future__ import division\n",
    "import numpy as np\n",
    "from sympy import symbols, sin, cos, pi, simplify\n",
    "from math import radians as d2r\n",
    "from math import degrees as r2d\n",
    "from math import atan2, sqrt, acos, fabs"
   ]
  },
  {
   "cell_type": "code",
   "execution_count": 26,
   "metadata": {
    "collapsed": true
   },
   "outputs": [],
   "source": [
    "t1, t2, t3 = symbols('t1 t2 t3')\n",
    "Lc, Lf, Lt = symbols('Lc Lf Lt')"
   ]
  },
  {
   "cell_type": "markdown",
   "metadata": {},
   "source": [
    "The following class follows the traditional [DH convention](https://en.wikipedia.org/wiki/Denavit%E2%80%93Hartenberg_parameters). Where:\n",
    "\n",
    "| Parameter | Definition|\n",
    "|-----------|-----------|\n",
    "| $\\alpha_i$   | angle about common normal, from old z axis to new z axis (twist)|\n",
    "| $d_i$        | offset along previous z to the common normal |\n",
    "| $\\theta_i$   | angle about previous z, from old x to new x |\n",
    "| $a_i$        | length of the common normal. Assuming a revolute joint, this is the radius about previous z. |"
   ]
  },
  {
   "cell_type": "code",
   "execution_count": 27,
   "metadata": {
    "collapsed": true
   },
   "outputs": [],
   "source": [
    "class DH(object):\n",
    "    def __init__(self):\n",
    "        pass\n",
    "\n",
    "    def fk(self, params):\n",
    "        t = np.eye(4)\n",
    "        for p in params:\n",
    "            t = t.dot(self.makeT(*p))\n",
    "        return t\n",
    "\n",
    "    def makeT(self, a, alpha, d, theta):\n",
    "        return np.array([  # classic DH\n",
    "            [cos(theta), -sin(theta) * cos(alpha),  sin(theta) * sin(alpha), cos(theta) * a],\n",
    "            [sin(theta),  cos(theta) * cos(alpha), -cos(theta) * sin(alpha), sin(theta) * a],\n",
    "            [         0,               sin(alpha),               cos(alpha),              d],\n",
    "            [         0,                        0,                        0,              1]\n",
    "        ])"
   ]
  },
  {
   "cell_type": "code",
   "execution_count": 28,
   "metadata": {
    "collapsed": true
   },
   "outputs": [],
   "source": [
    "def eval(f, inputs):\n",
    "    h = []\n",
    "    for i in range(0, 3):\n",
    "        tmp = (f[i,3]).subs(inputs)\n",
    "        h.append(tmp.evalf())\n",
    "    return h"
   ]
  },
  {
   "cell_type": "markdown",
   "metadata": {},
   "source": [
    "The parameters are:\n",
    "\n",
    "| i |$a_i$        | $\\alpha_i$   | $d_i$   | $theta_i$  |\n",
    "|---|-------------|--------------|---------|------------|\n",
    "| 1 | $L_{coxa}$  | 90           | 0       | $\\theta_1$ |\n",
    "| 2 | $L_{femur}$ | 0            | 0       | $\\theta_2$ |\n",
    "| 3 | $L_{tibia}$ | 0            | 0       | $\\theta_3$ |\n"
   ]
  },
  {
   "cell_type": "code",
   "execution_count": 5,
   "metadata": {
    "collapsed": false,
    "scrolled": true
   },
   "outputs": [],
   "source": [
    "# a, alpha, d, theta\n",
    "params = [\n",
    "    [Lc, pi/2, 0, t1],\n",
    "    [Lf,    0, 0, t2],\n",
    "    [Lt,    0, 0, t3]\n",
    "]\n",
    "dh = DH()\n",
    "t = dh.fk(params)\n",
    "t = eval(t,[])"
   ]
  },
  {
   "cell_type": "code",
   "execution_count": 29,
   "metadata": {
    "collapsed": false
   },
   "outputs": [
    {
     "name": "stdout",
     "output_type": "stream",
     "text": [
      "1.0*(Lc + Lf*cos(t2) + Lt*cos(t2 + t3))*cos(t1)\n",
      "1.0*(Lc + Lf*cos(t2) + Lt*cos(t2 + t3))*sin(t1)\n",
      "1.0*Lf*sin(t2) + 1.0*Lt*sin(t2 + t3)\n"
     ]
    }
   ],
   "source": [
    "for i in t:\n",
    "    print(simplify(i))"
   ]
  },
  {
   "cell_type": "code",
   "execution_count": 7,
   "metadata": {
    "collapsed": false
   },
   "outputs": [],
   "source": [
    "def fk(t1, t2, t3, Lc, Lf, Lt):\n",
    "    t1 = d2r(t1)\n",
    "    t2 = d2r(t2)\n",
    "    t3 = d2r(t3)\n",
    "    return np.array([\n",
    "        (Lc + Lf*cos(t2) + Lt*cos(t2 + t3))*cos(t1),\n",
    "        (Lc + Lf*cos(t2) + Lt*cos(t2 + t3))*sin(t1),\n",
    "        Lf*sin(t2) + 1.0*Lt*sin(t2 + t3)\n",
    "    ])"
   ]
  },
  {
   "cell_type": "markdown",
   "metadata": {},
   "source": [
    "# Inverse Kinematics\n",
    "\n",
    "Often, we need to find the angles of the leg joints given a location (x,y,z) of the foot. To calculate this, remember the leg is composed of 3 revolute joints. The shoulder is in one plane and both the femur joint and tibia joint are in another plane.\n",
    "\n",
    "**insert picture here**\n",
    "\n",
    "## Useful Trigonometry\n",
    "\n",
    "![](https://upload.wikimedia.org/wikipedia/commons/thumb/4/49/Triangle_with_notations_2.svg/200px-Triangle_with_notations_2.svg.png)\n",
    "\n",
    "The **law of cosines** for calculating one side of a triangle when the angle\n",
    "opposite and the other two sides are known. Can be used in conjunction with\n",
    "the law of sines to find all sides and angles.\n",
    "\n",
    "## Derivation\n",
    "\n",
    "So let's start with the shoulder, look down from the top, we see the x-y plane. We can calculate the it's rotation $\\theta_1$ by using x and y of the foot location.\n",
    "\n",
    "$$\\theta_1 = atan2(y,x)$$\n",
    "\n",
    "Next, let's look at the plane which the next 2 joints lie in. Now we will calculate the $\\theta_2$ and $\\theta_3$ angles.\n",
    "\n",
    "$$ m = \\sqrt{x^2 + y^2} $$\n",
    "\n",
    "$$ f = m - L_{coxa} $$\n",
    "\n",
    "$$ \\beta_1 = atan2(f,z) $$\n",
    "\n",
    "$$ d = \\sqrt{f^2 + z^2} $$\n",
    "\n",
    "$$ \\beta_2 = \\arccos( \\frac{L_{femur}^2+d^2-L_{tibia}^2}{2 d L_{femur}} ) $$\n",
    "\n",
    "$$ \\theta_2 = \\beta_1 + \\beta_2 $$\n",
    "\n",
    "$$\\theta_3 = \\arccos( \\frac{L_{femur}^2+L_{tibia}^2-d^2}{2 L_{femur} L_{tibia}} ) $$\n",
    "\n",
    "Now finally, you should notice the definition is different between forward and reverse kinematics. So let's fix that ...\n",
    "\n",
    "\n",
    "$$ \\theta_{2fk} = \\theta_{2ik} - \\pi $$\n",
    "$$ \\theta_{3fk} = \\theta_{3ik} - \\pi/2 $$\n"
   ]
  },
  {
   "cell_type": "code",
   "execution_count": 13,
   "metadata": {
    "collapsed": false
   },
   "outputs": [],
   "source": [
    "def ik(x, y, z, Lc, Lf, Lt):\n",
    "    t1 = atan2(y, x)\n",
    "    f = sqrt(x**2 + y**2) - Lc\n",
    "    \n",
    "    # depending on z, you have to do a different atan\n",
    "    if z < 0.0:\n",
    "        b1 = atan2(f, fabs(z))\n",
    "    else:\n",
    "        b1 = atan2(z, f)\n",
    "    d = sqrt(f**2 + z**2)  \n",
    "    b2 = acos((Lf**2 + d**2 - Lt**2) / (2.0 * Lf * d))\n",
    "    t2 = b1 + b2\n",
    "    t3 = acos((Lf**2 + Lt**2 - d**2) / (2.0 * Lf * Lt))\n",
    "\n",
    "    t3 -= pi  # fix to align fk and ik frames\n",
    "    if z < 0.0:\n",
    "        t3 -= pi/2\n",
    "\n",
    "    return [r2d(t1), r2d(t2),r2d(t3)]"
   ]
  },
  {
   "cell_type": "code",
   "execution_count": 16,
   "metadata": {
    "collapsed": false
   },
   "outputs": [
    {
     "name": "stdout",
     "output_type": "stream",
     "text": [
      "angles: 0.0 45.0 -60.0\n"
     ]
    }
   ],
   "source": [
    "pts = fk(0,45,-60, 10, 40, 100)\n",
    "# print('pts: {} {} {}'.format(*pts))\n",
    "\n",
    "angles = ik(pts[0], pts[1], pts[2], 10, 40, 100)\n",
    "print('angles: {:.1f} {:.1f} {:.1f}'.format(*angles))"
   ]
  },
  {
   "cell_type": "code",
   "execution_count": 24,
   "metadata": {
    "collapsed": false
   },
   "outputs": [],
   "source": [
    "# from random import uniform\n",
    "# for i in range(10):\n",
    "#     a=uniform(-90,90)\n",
    "#     b=uniform(0,90)\n",
    "#     c=uniform(-180,0)\n",
    "#     pts = fk(a,b,c, 10, 40, 100)\n",
    "#     angles = ik(pts[0], pts[1], pts[2], 10, 40, 100)\n",
    "#     if angles:\n",
    "#         if a-angles[0]>0.1 or b-angles[1]>0.1 or c-angles[2]>0.1:\n",
    "#             print('in: {:.1f} {:.1f} {:.1f} out: {:.1f} {:.1f} {:.1f}'.format(a,b,c, *angles))"
   ]
  },
  {
   "cell_type": "code",
   "execution_count": 20,
   "metadata": {
    "collapsed": false,
    "scrolled": true
   },
   "outputs": [],
   "source": [
    "# def printError(pts, pts2, angles, angles2):\n",
    "#     print('****************************************************')\n",
    "#     print('angles (orig):', angles)\n",
    "#     print('angles2 from ik(pts): {:.2f} {:.2f} {:.2f}'.format(*angles2))\n",
    "#     print('pts from fk(orig): {:.2f} {:.2f} {:.2f}'.format(*pts))\n",
    "#     print('pts2 from fk(angle2): {:.2f} {:.2f} {:.2f}'.format(*pts2))\n",
    "#     print('diff [deg]: {:.2f}'.format(np.linalg.norm(np.array(angles) - np.array(angles2))))\n",
    "#     print('diff [mm]: {:.2f}'.format(np.linalg.norm(pts - pts2)))\n",
    "#     print('\\nExiting\\n')\n",
    "#     print('****************************************************')\n",
    "\n",
    "# def fk_ik():\n",
    "#     cox = 10\n",
    "#     fem = 40\n",
    "#     tib = 100\n",
    "#     for a in range(-45, 45, 5):\n",
    "#         for b in range(0,90,5):\n",
    "#             for g in range(-90,0,5):\n",
    "#                 print('------------------------------------------------')\n",
    "#                 a1 = [a,b,g]\n",
    "#                 pts = fk(a1[0],a1[1],a1[2], cox, fem, tib)\n",
    "#                 a2 = ik(pts[0], pts[1], pts[2], cox, fem, tib)\n",
    "#                 pts2 = fk(a2[0], a2[1], a2[2], cox, fem, tib)\n",
    "\n",
    "#                 print('points:', pts)\n",
    "# #                 print(type(pts))\n",
    "# #                 print(pts - pts2)\n",
    "# #                 print(np.linalg.norm(pts - pts2))\n",
    "                \n",
    "# #                 print(a1)\n",
    "# #                 print(type(a1))\n",
    "# #                 print(a2)\n",
    "# #                 print(type(a2))\n",
    "\n",
    "#                 angle_error = np.linalg.norm(np.array(a1) - np.array(a2))\n",
    "#                 pos_error = np.linalg.norm(pts - pts2)\n",
    "#                 # print(angle_error, pos_error)\n",
    "\n",
    "#                 if angle_error > 0.0001:\n",
    "#                     print('Angle Error')\n",
    "#                     printError(pts, pts2, angles, angles2)\n",
    "#                     exit()\n",
    "\n",
    "#                 elif pos_error > 0.0001:\n",
    "#                     print('Position Error')\n",
    "#                     printError(pts, pts2, angles, angles2)\n",
    "#                     exit()\n",
    "\n",
    "#                 else:\n",
    "#                     print('Angle: {:.1f} {:.1f} {:.1f}'.format(angles[0], angles[1], angles[2]))\n",
    "#                     print('Pos: {:.1f} {:.1f} {:.1f}'.format(pts[0], pts[1], pts[2]))\n",
    "#                     print('Error(deg,mm): {:.2f} {:.2f}\\n'.format(angle_error, pos_error))\n",
    "        \n",
    "# fk_ik()"
   ]
  },
  {
   "cell_type": "code",
   "execution_count": null,
   "metadata": {
    "collapsed": false,
    "scrolled": true
   },
   "outputs": [],
   "source": [
    "print(sqrt)"
   ]
  },
  {
   "cell_type": "markdown",
   "metadata": {},
   "source": [
    "\n",
    "-----------\n",
    "\n",
    "<a rel=\"license\" href=\"http://creativecommons.org/licenses/by-sa/4.0/\"><img alt=\"Creative Commons License\" style=\"border-width:0\" src=\"https://i.creativecommons.org/l/by-sa/4.0/88x31.png\" /></a><br />This work is licensed under a <a rel=\"license\" href=\"http://creativecommons.org/licenses/by-sa/4.0/\">Creative Commons Attribution-ShareAlike 4.0 International License</a>."
   ]
  }
 ],
 "metadata": {
  "kernelspec": {
   "display_name": "Python 2",
   "language": "python",
   "name": "python2"
  },
  "language_info": {
   "codemirror_mode": {
    "name": "ipython",
    "version": 2
   },
   "file_extension": ".py",
   "mimetype": "text/x-python",
   "name": "python",
   "nbconvert_exporter": "python",
   "pygments_lexer": "ipython2",
   "version": "2.7.12"
  }
 },
 "nbformat": 4,
 "nbformat_minor": 1
}
