{
 "cells": [
  {
   "cell_type": "markdown",
   "metadata": {},
   "source": [
    "# Quadruped [Gait](https://en.wikipedia.org/wiki/Gait)\n",
    "Kevin Walchko, created 8 Nov 2016\n",
    "\n"
   ]
  },
  {
   "cell_type": "code",
   "execution_count": 3,
   "metadata": {
    "collapsed": true
   },
   "outputs": [],
   "source": [
    "%matplotlib inline"
   ]
  },
  {
   "cell_type": "code",
   "execution_count": 4,
   "metadata": {
    "collapsed": true
   },
   "outputs": [],
   "source": [
    "from __future__ import print_function\n",
    "from __future__ import division\n",
    "import matplotlib.pyplot as plt\n",
    "import numpy as np\n",
    "from math import sin, cos, pi"
   ]
  },
  {
   "cell_type": "markdown",
   "metadata": {},
   "source": [
    "## Hildebrand Diagram\n",
    "\n",
    "Example from wikipedia for a horse:\n",
    "\n",
    "![](https://upload.wikimedia.org/wikipedia/commons/thumb/c/cf/Gait_graphs.jpg/800px-Gait_graphs.jpg)\n",
    "\n",
    "$\\phi$ is the phase of each leg and $z$ is the foot height. The black bars indicate when a foot is in contact with the ground.\n",
    "\n",
    "Common gaits for quadrupeds (spider/crab configuration):\n",
    "\n",
    "* **Ripple Gait:** when one leg is in the air while the other three are holding up the body. This tends to be a stable gait when you keep the center of mass (CM) inside the triangle formed by the three legs in contact with the ground. Becuase of the stability, you could interrupt this gait at any time (i.e., stop it) and the robot will not fall over.\n",
    "\n",
    "* **Trott Gait:** A fast gait where two legs are in the air moving while the other two legs are in contact with the ground. This is an unstable gait and the robot could fall over if the gait is not executed quickly enough.\n",
    "\n",
    "Terminology:\n",
    "\n",
    "* **Duty Factor:** Duty factor is simply the percent of the total cycle which a given foot is on the ground. Duty factors over 50% are considered a \"walk\", while those less than 50% are considered a run. \n",
    "\n",
    "* **Forelimb-hindlimb Phase (or just Phase):** is the temporal relationship between the limb pairs."
   ]
  },
  {
   "cell_type": "code",
   "execution_count": 6,
   "metadata": {
    "collapsed": true
   },
   "outputs": [],
   "source": [
    "def rot_z(t, c):\n",
    "    \"\"\"\n",
    "    t - theta [radians]\n",
    "    c - [x,y,z] or [x,y] ... the function detects 2D or 3D vector\n",
    "    \"\"\"\n",
    "    if len(c) == 3:\n",
    "        ans = np.array([\n",
    "            c[0]*cos(t)-c[1]*sin(t),\n",
    "            c[0]*sin(t)+c[1]*cos(t),\n",
    "            c[2]\n",
    "        ])\n",
    "    else:\n",
    "        ans = np.array([\n",
    "            c[0]*cos(t)-c[1]*sin(t),\n",
    "            c[0]*sin(t)+c[1]*cos(t)\n",
    "        ])\n",
    "\n",
    "    return ans"
   ]
  },
  {
   "cell_type": "markdown",
   "metadata": {},
   "source": [
    "## Discrete Ripple Gait\n",
    "\n",
    "The gait uses an array to hold the leg/foot positions in an attempt to simplify the coding and reduce the computational requirements."
   ]
  },
  {
   "cell_type": "code",
   "execution_count": 8,
   "metadata": {
    "collapsed": true
   },
   "outputs": [],
   "source": [
    "phi = [9/9, 6/9, 3/9, 0/9, 1/9, 2/9, 3/9, 4/9, 5/9, 6/9, 7/9, 8/9]  # foot pos in gait sequence\n",
    "maxl = 25  # lifting higher gives me errors\n",
    "minl = 12.5\n",
    "z = [minl, maxl, maxl, minl, 0.0, 0.0, 0.0, 0.0, 0.0, 0.0, 0.0, 0.0]  # leg height\n",
    "\n",
    "def eachLeg(index, cmd):\n",
    "    \"\"\"\n",
    "    interpolates the foot position of each leg\n",
    "    \"\"\"\n",
    "    rest = np.array([40,40.0,-70]) # idle leg position\n",
    "    i = index % 12\n",
    "\n",
    "    # rotational commands -----------------------------------------------\n",
    "    angle = cmd['angle']/2-cmd['angle']*phi[i]\n",
    "    rest_rot = rot_z(-angle, rest)\n",
    "    rest_rot[2] = 0  # let linear handle z height\n",
    "\n",
    "    # linear commands ----------------------------------------------------\n",
    "    linear = cmd['linear']\n",
    "    xx = linear[0]\n",
    "    yy = linear[1]\n",
    "\n",
    "    # create new move command\n",
    "    move = np.array([\n",
    "        xx/2 - phi[i]*xx,\n",
    "        yy/2 - phi[i]*yy,\n",
    "        z[i]\n",
    "    ])\n",
    "\n",
    "    # new foot position: newpos = rest + move ----------------------------\n",
    "    newpos = rest + move + rest_rot\n",
    "\n",
    "#     print('New [{}](x,y,z): {:.2f}\\t{:.2f}\\t{:.2f}'.format(i, newpos[0], newpos[1], newpos[2]))\n",
    "    \n",
    "    return newpos"
   ]
  },
  {
   "cell_type": "markdown",
   "metadata": {},
   "source": [
    "## Continous Crawl Gait\n",
    "\n",
    "Unlike the discrete gait above, this continous gait can be interpolated into finer steps in an attempt to slow down the speed of the gait or produce smoother movements."
   ]
  },
  {
   "cell_type": "code",
   "execution_count": 46,
   "metadata": {
    "collapsed": true
   },
   "outputs": [],
   "source": [
    "def phi2(x):\n",
    "    \"\"\"\n",
    "    The phase \n",
    "    \"\"\"\n",
    "    phi = 0.0\n",
    "    if x <= 3.0:\n",
    "        phi = 1/3*(3.0-x)\n",
    "    else:\n",
    "        phi = 1/9*(x-3)\n",
    "    return phi\n",
    "\n",
    "def z2(x):\n",
    "    \"\"\"\n",
    "    Leg height\n",
    "    \"\"\"\n",
    "    height = 25.0\n",
    "    z = 0.0\n",
    "    if x <= 1:\n",
    "        z = height/1.0*x\n",
    "    elif x <= 2.0:\n",
    "        z = height\n",
    "    elif x <= 3.0:\n",
    "        z = -height/1.0*(x-2.0)+height\n",
    "    return z\n",
    "\n",
    "def eachLeg2(index, cmd):\n",
    "    \"\"\"\n",
    "    interpolates the foot position of each leg\n",
    "    \"\"\"\n",
    "    rest = np.array([40,40.0,-70]) # idle leg position\n",
    "    i = index % 12\n",
    "    phi = phi2(i)\n",
    "    z = z2(i)\n",
    "\n",
    "    # rotational commands -----------------------------------------------\n",
    "    angle = cmd['angle']/2-cmd['angle']*phi\n",
    "    rest_rot = rot_z(-angle, rest)\n",
    "    rest_rot[2] = 0  # let linear handle z height\n",
    "\n",
    "    # linear commands ----------------------------------------------------\n",
    "    linear = cmd['linear']\n",
    "    xx = linear[0]\n",
    "    yy = linear[1]\n",
    "\n",
    "    # create new move command\n",
    "    move = np.array([\n",
    "        xx/2 - phi*xx,\n",
    "        yy/2 - phi*yy,\n",
    "        z\n",
    "    ])\n",
    "\n",
    "    # new foot position: newpos = rest + move ----------------------------\n",
    "    newpos = rest + move + rest_rot\n",
    "#     print('New [{}](x,y,z): {:.2f}\\t{:.2f}\\t{:.2f}'.format(i, newpos[0], newpos[1], newpos[2]))\n",
    "    \n",
    "    return newpos"
   ]
  },
  {
   "cell_type": "code",
   "execution_count": 60,
   "metadata": {
    "collapsed": false
   },
   "outputs": [],
   "source": [
    "cmd = {'linear': [0,0], 'angle': -pi/2}\n",
    "alpha = 0.25\n",
    "pos = []\n",
    "for i in range(0,48):\n",
    "#     p = eachLeg(i,cmd)\n",
    "    p = eachLeg2(i*alpha,cmd)\n",
    "    pos.append(p)"
   ]
  },
  {
   "cell_type": "code",
   "execution_count": 61,
   "metadata": {
    "collapsed": false
   },
   "outputs": [
    {
     "data": {
      "text/plain": [
       "<matplotlib.text.Text at 0x1087f0850>"
      ]
     },
     "execution_count": 61,
     "metadata": {},
     "output_type": "execute_result"
    },
    {
     "data": {
      "image/png": "[encoded data removed]",
      "text/plain": [
       "<matplotlib.figure.Figure at 0x10858f7d0>"
      ]
     },
     "metadata": {},
     "output_type": "display_data"
    }
   ],
   "source": [
    "px = []\n",
    "py = []\n",
    "pz = []\n",
    "for p in pos:\n",
    "    px.append(p[0])\n",
    "    py.append(p[1])\n",
    "    pz.append(p[2])\n",
    "\n",
    "plt.subplot(2,2,1)\n",
    "plt.plot(px)\n",
    "plt.ylabel('x')\n",
    "plt.subplot(2,2,2)\n",
    "plt.plot(py)\n",
    "plt.ylabel('y')\n",
    "plt.subplot(2,2,3)\n",
    "plt.plot(pz)\n",
    "plt.ylabel('z')\n",
    "plt.subplot(2,2,4)\n",
    "plt.plot(px,py)\n",
    "plt.ylabel('y')\n",
    "plt.xlabel('x')"
   ]
  },
  {
   "cell_type": "markdown",
   "metadata": {},
   "source": [
    "\n",
    "-----------\n",
    "\n",
    "<a rel=\"license\" href=\"http://creativecommons.org/licenses/by-sa/4.0/\"><img alt=\"Creative Commons License\" style=\"border-width:0\" src=\"https://i.creativecommons.org/l/by-sa/4.0/88x31.png\" /></a><br />This work is licensed under a <a rel=\"license\" href=\"http://creativecommons.org/licenses/by-sa/4.0/\">Creative Commons Attribution-ShareAlike 4.0 International License</a>."
   ]
  }
 ],
 "metadata": {
  "kernelspec": {
   "display_name": "Python 2",
   "language": "python",
   "name": "python2"
  }
 },
 "nbformat": 4,
 "nbformat_minor": 1
}
