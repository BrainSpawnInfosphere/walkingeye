{
 "cells": [
  {
   "cell_type": "markdown",
   "metadata": {},
   "source": [
    "# Center of Mass Check\n",
    "\n",
    "Make sure the CM is located inside of the stability triangle created by the 3 (stationary) foot locations.\n",
    "\n",
    "**Still a work in progress**"
   ]
  },
  {
   "cell_type": "code",
   "execution_count": 1,
   "metadata": {
    "collapsed": true
   },
   "outputs": [],
   "source": [
    "%matplotlib inline"
   ]
  },
  {
   "cell_type": "code",
   "execution_count": 2,
   "metadata": {
    "collapsed": true
   },
   "outputs": [],
   "source": [
    "from __future__ import print_function\n",
    "from __future__ import division\n",
    "import matplotlib.pyplot as plt\n",
    "import numpy as np\n",
    "from numpy.linalg import norm \n",
    "from math import sin, cos, pi, sqrt\n",
    "from math import radians as d2r"
   ]
  },
  {
   "cell_type": "code",
   "execution_count": 3,
   "metadata": {
    "collapsed": true
   },
   "outputs": [],
   "source": [
    "def rot_z(t, c):\n",
    "    \"\"\"\n",
    "    t - theta [radians]\n",
    "    c - [x,y,z] or [x,y] ... the function detects 2D or 3D vector\n",
    "    \"\"\"\n",
    "    if len(c) == 3:\n",
    "        ans = np.array([\n",
    "            c[0]*cos(t)-c[1]*sin(t),\n",
    "            c[0]*sin(t)+c[1]*cos(t),\n",
    "            c[2]\n",
    "        ])\n",
    "    else:\n",
    "        ans = np.array([\n",
    "            c[0]*cos(t)-c[1]*sin(t),\n",
    "            c[0]*sin(t)+c[1]*cos(t)\n",
    "        ])\n",
    "\n",
    "    return ans"
   ]
  },
  {
   "cell_type": "code",
   "execution_count": 4,
   "metadata": {
    "collapsed": true
   },
   "outputs": [],
   "source": [
    "class RobotTransform(object):\n",
    "    \"\"\"\n",
    "    Converts pts between the leg and body frame.\n",
    "    \"\"\"\n",
    "    def __init__(self, radius):\n",
    "        \"\"\"\n",
    "        in:\n",
    "            radius - radius of body from CM in mm\n",
    "            anglesB2L - angles to transform between body and leg frames\n",
    "        \"\"\"\n",
    "        # cmrot\n",
    "        self.leg2body = [pi/4, -pi/4, -3*pi/4, 3*pi/4]  # legs to body frame # orig\n",
    "#         self.leg2body = [-pi/4, pi/4, 3*pi/4, -3*pi/4]  # legs to body frame\n",
    "        # frame\n",
    "        self.body2leg = [-pi/4, pi/4, 3*pi/4, -3*pi/4]  # body to leg frame # orig\n",
    "#         self.body2leg = [pi/4, -pi/4, -3*pi/4, 3*pi/4]  # body to leg frame\n",
    "        # account for base, in base frame\n",
    "        cm = radius*cos(pi/4)\n",
    "        self.base = [\n",
    "            np.array([cm, cm, 0]),\n",
    "            np.array([cm, -cm, 0]),\n",
    "            np.array([-cm, -cm, 0]),\n",
    "            np.array([-cm, cm, 0])\n",
    "        ]\n",
    "        \n",
    "    def leg2Body(self, legNum, pts):\n",
    "        \"\"\"\n",
    "        Converts points from leg_frame to body_frame\n",
    "        \"\"\"\n",
    "        pts2 = rot_z(self.leg2body[legNum], pts) + self.base[legNum]\n",
    "        return pts2\n",
    "    \n",
    "    def body2Leg(self, legNum, pts):\n",
    "        \"\"\"\n",
    "        Converts points from body_frame to leg_frame\n",
    "        \"\"\"\n",
    "        pts2 = rot_z(self.body2leg[legNum],pts-self.base[legNum])\n",
    "        return pts2    "
   ]
  },
  {
   "cell_type": "code",
   "execution_count": 5,
   "metadata": {
    "collapsed": true
   },
   "outputs": [],
   "source": [
    "# Plotting routine for testing\n",
    "def plotFeetxyz(feet, cfeet, correction):\n",
    "    # account for base, in base frame\n",
    "    tf = RobotTransform(45)\n",
    "    opx = []  # original gait \n",
    "    opy = []\n",
    "    cpx = []  # corrected gait\n",
    "    cpy = []\n",
    "    oxy = []  # double check\n",
    "    cxy = []  # double check\n",
    "    \n",
    "    print('------------------------------------')\n",
    "    print('Body frame')\n",
    "    print('Correction: {:.2f} {:.2f}'.format(*correction[0:2]))\n",
    "\n",
    "    def fill(ax, ay, feet):\n",
    "        for p in feet:  # p = [index, legNum, (x,y,z)]\n",
    "            index = p[0]\n",
    "            legNum = p[1]\n",
    "            foot = tf.leg2Body(legNum, p[2])\n",
    "            if index > 2:  # check index to see if leg moving\n",
    "                corr = foot + correction  # body frame for plotting\n",
    "                ax.append(foot[0])\n",
    "                ay.append(foot[1])\n",
    "        return ax, ay\n",
    "    \n",
    "    opx, opy = fill(opx, opy, feet)\n",
    "    cpx, cpy = fill(cpx, cpy, cfeet)\n",
    "#     for p in feet:  # p = [index, legNum, (x,y,z)]\n",
    "#         index = p[0]\n",
    "#         legNum = p[1]\n",
    "#         foot = tf.leg2Body(legNum, p[2])\n",
    "#         if index > 2:  # check index to see if leg moving\n",
    "#             corr = foot + correction  # body frame for plotting\n",
    "#             opx.append(foot[0])\n",
    "#             opy.append(foot[1])\n",
    "#             cpx.append(corr[0])\n",
    "#             cpy.append(corr[1])\n",
    "#             oxy.append(foot[0:2])\n",
    "#             cxy.append(corr[0:2])\n",
    "#             print('Foot[{}]: Orig: {:.2f} {:.2f}  Corr: {:.2f} {:.2f}'.format(*(legNum, foot[0], foot[1], corr[0], corr[1])))\n",
    "\n",
    "    plt.scatter([0], [0], c='g', label='CM')  # CM\n",
    "    plt.scatter(opx, opy, c='r', label='Gait')  # gait\n",
    "    plt.scatter(cpx, cpy, c='b', label='Corrected Gait')  # corrected gait\n",
    "    plt.grid(True)\n",
    "    plt.legend(loc='upper left');\n",
    "    plt.xlabel('Corrected foot locations');\n",
    "\n",
    "#     print('gait inside: {}'.format(Correction.inside(oxy)))\n",
    "#     print('corrected gait inside: {}'.format(Correction.inside(cxy)))"
   ]
  },
  {
   "cell_type": "code",
   "execution_count": 27,
   "metadata": {
    "collapsed": true
   },
   "outputs": [],
   "source": [
    "class Correction(object):\n",
    "    def __init__(self):\n",
    "        pass\n",
    "        \n",
    "    @staticmethod\n",
    "    def inside(feet, prnt=False):\n",
    "        \"\"\"\n",
    "        Determine if a point P is inside of a triangle composed of points\n",
    "        A, B, and C.\n",
    "        pts = [A,B,C]\n",
    "        P = [0,0] at the center of mass of the robot\n",
    "        returns True (inside triangle) or False (outside the triangle)\n",
    "        \"\"\"\n",
    "        pts = []\n",
    "        for p in feet:\n",
    "            if isinstance(p, np.ndarray):\n",
    "                pts.append(p)\n",
    "                \n",
    "        # print('inSideCM pts:', pts)\n",
    "        A = pts[0][0:2]\n",
    "        B = pts[1][0:2]\n",
    "        C = pts[2][0:2]\n",
    "        P = np.array([0, 0])  # CM is at the center :)\n",
    "\n",
    "        # Compute vectors\n",
    "        v0 = C - A\n",
    "        v1 = B - A\n",
    "        v2 = P - A\n",
    "\n",
    "        # Compute dot products\n",
    "        dot00 = np.dot(v0, v0)\n",
    "        dot01 = np.dot(v0, v1)\n",
    "        dot02 = np.dot(v0, v2)\n",
    "        dot11 = np.dot(v1, v1)\n",
    "        dot12 = np.dot(v1, v2)\n",
    "\n",
    "        # Compute barycentric coordinates\n",
    "        invDenom = 1 / (dot00 * dot11 - dot01 * dot01)\n",
    "        u = (dot11 * dot02 - dot01 * dot12) * invDenom\n",
    "        v = (dot00 * dot12 - dot01 * dot02) * invDenom\n",
    "\n",
    "        if prnt:\n",
    "            print(u, v)\n",
    "\n",
    "        # Check if point is in triangle\n",
    "        ans =((u >= 0) and (v >= 0) and (u + v < 1))\n",
    "        \n",
    "        print('inside():', ans)\n",
    "        return ans\n",
    "\n",
    "    @staticmethod\n",
    "    def lineIntersection(p1, p2, p3):\n",
    "        \"\"\"\n",
    "        Find the intersection of 2 lines.\n",
    "        line 1: p1, p2\n",
    "        line 2: p3, [0,0]\n",
    "        \"\"\"\n",
    "        x1 = p1[0]\n",
    "        x2 = p2[0]\n",
    "        x3 = p3[0]\n",
    "        x4 = 0.0\n",
    "        y1 = p1[1]\n",
    "        y2 = p2[1]\n",
    "        y3 = p3[1]\n",
    "        y4 = 0.0\n",
    "\n",
    "        denom = ((x1 - x2)*(y3 - y4) - (y1 - y2)*(x3 - x4))\n",
    "        if abs(denom) < 0.00001:\n",
    "            # print('crap {}'.format(denom))\n",
    "            return np.array([0, 0])\n",
    "        x = ((x1*y2 - y1*x2)*(x3 - x4) - (x1 - x2)*(x3*y4 - y3*x4))/denom\n",
    "        y = ((x1*y2 - y1*x2)*(y3 - y4) - (y1 - y2)*(x3*y4 - y3*x4))/denom\n",
    "        return np.array([x, y])\n",
    "\n",
    "    @staticmethod\n",
    "    def vmin(a):\n",
    "        \"\"\"\n",
    "        Find the minimum vector in an array of 2D vectors.\n",
    "        in = [[1,2], [2,3], ...]\n",
    "        out = [1,2]\n",
    "        \"\"\"\n",
    "        minv = 0\n",
    "        min_val = 1000000000000000\n",
    "        for p in a:\n",
    "            val = norm(p)\n",
    "            if val < min_val:\n",
    "                min_val = val\n",
    "                minv = p\n",
    "        return minv\n",
    "    \n",
    "    def correction(self, feet, movingFoot):\n",
    "        \"\"\"\n",
    "        Given the robot's foot locations, provide correction if the\n",
    "        center of mass (CM) is outside the triangle formed by the 3\n",
    "        foot locations.\n",
    "        pts = [foot0, foot1, foot2, foot3]\n",
    "        correction = [x,y,0]\n",
    "        \"\"\"      \n",
    "#         a = []\n",
    "#         for i in range(0, 3):\n",
    "#             p0 = pts[i]\n",
    "#             p1 = pts[(i+1) % 3]\n",
    "#             xx = self.lineIntersection(p0, p1, cm0, cm1)\n",
    "#             a.append(xx)\n",
    "#         a = self.vmin(a)\n",
    "#         correction = np.array([-a[0], -a[1], 0.0])\n",
    "        # 0 1 2 3\n",
    "        op = feet[(movingFoot + 2)%4]\n",
    "        p0 = feet[(movingFoot + 1)%4]\n",
    "        p1 = feet[(movingFoot + 3)%4]\n",
    "        a = self.lineIntersection(p0, p1, op)\n",
    "        correction = np.array([-a[0], -a[1], 0.0])\n",
    "        return correction\n",
    "    \n",
    "    def calcCorrection(self, feet):\n",
    "        \"\"\"\n",
    "        This take the feet positions, calculated by a Gait, and adjusts them\n",
    "        to ensure the CM is inside of the stability triangle.\n",
    "        \n",
    "        in:\n",
    "            feet = [[index, legNum, foot], ...] there are 4 of these\n",
    "                    index - tells if foot is up/down\n",
    "                    legNum - which leg [0-3]\n",
    "                    foot - (x,y,z) is converted to 2D\n",
    "        out:\n",
    "            correction = [x,y,0] is only a 2D correction\n",
    "        \"\"\"\n",
    "        temp = [0,0,0,0]\n",
    "        tf = RobotTransform(45)\n",
    "        \n",
    "        print('-------------------')\n",
    "        print('calcCorrection()')\n",
    "        movingLeg = 0\n",
    "        for f in feet:\n",
    "            index = f[0]\n",
    "            foot = f[2]\n",
    "            legNum = f[1]\n",
    "            if index > 2:\n",
    "                print('in foot: {:.2f} {:.2f}'.format(*foot[0:2]))\n",
    "                ft = tf.leg2Body(legNum, foot)\n",
    "                temp[legNum] = ft\n",
    "                print('rotated foot: {:.2f} {:.2f}'.format(*ft[0:2]))\n",
    "            else:\n",
    "                movingFoot = legNum\n",
    "\n",
    "        if not self.inside(temp):\n",
    "            correction = 1.5*self.correction(temp, movingFoot)\n",
    "        else:\n",
    "            correction = np.array([0,0,0])\n",
    "        return correction\n",
    "\n",
    "    def rotateFeetCorrected(self, feet, correction):\n",
    "        \"\"\"\n",
    "        return: [[index, legNum, (x,y,z)], ...] corrected stationary feet positions\n",
    "        \"\"\"\n",
    "        tf = RobotTransform(45)\n",
    "        ans = []\n",
    "        for p in feet:  # p = [index, legNum, (x,y,z)]\n",
    "            index = p[0]\n",
    "            legNum = p[1]\n",
    "            foot = p[2]\n",
    "            if index > 2:  # check index to see if leg moving\n",
    "                foot = tf.leg2Body(legNum, foot) + correction\n",
    "                foot = tf.body2Leg(legNum, foot)\n",
    "            ans.append([index, legNum, foot])\n",
    "        return ans\n",
    "    "
   ]
  },
  {
   "cell_type": "code",
   "execution_count": 35,
   "metadata": {
    "collapsed": false
   },
   "outputs": [
    {
     "name": "stdout",
     "output_type": "stream",
     "text": [
      "-------------------\n",
      "calcCorrection()\n",
      "in foot: 34.00 -20.00\n",
      "rotated foot: 70.00 41.72\n",
      "in foot: 44.00 20.00\n",
      "rotated foot: 77.07 -48.79\n",
      "in foot: 14.00 50.00\n",
      "rotated foot: -6.36 -77.07\n",
      "inside(): False\n",
      "corr foot: 22.05 33.16\n",
      "corr foot: -9.16 8.05\n",
      "corr foot: 25.95 -3.16\n",
      "corr foot: 64.00 0.00\n",
      "------------------------------------\n",
      "Body frame\n",
      "Correction: -46.04 29.14\n"
     ]
    },
    {
     "data": {
      "image/png": "[encoded data removed]",
      "text/plain": [
       "<matplotlib.figure.Figure at 0x10a269750>"
      ]
     },
     "metadata": {},
     "output_type": "display_data"
    }
   ],
   "source": [
    "# These feet positions are produced by a Gait ... I am just \n",
    "# testing right now, so I made them up\n",
    "# [index, legNum, (x,y,z)] <-- need to keep track of what Gait produced\n",
    "feet = [\n",
    "#     [3, 0, np.array([64,0.0,-65])],\n",
    "#     [6, 1, np.array([34,20.0,-65])],\n",
    "#     [9, 2, np.array([14,40.0,-65])],\n",
    "#     [0, 3, np.array([64,0.0,-65])]  # this leg is moving, not involved in calcs \n",
    "#     [3, 0, np.array([64,0.0,-65])],\n",
    "#     [6, 1, np.array([64,0.0,-65])],\n",
    "#     [9, 2, np.array([64,0.0,-65])],\n",
    "#     [0, 3, np.array([64,0.0,-65])]  # this leg is moving, not involved in calcs \n",
    "    [3, 0, np.array([34,-20.0,-65])],\n",
    "    [6, 1, np.array([44,20.0,-65])],\n",
    "    [9, 2, np.array([14,50.0,-65])],\n",
    "    [0, 3, np.array([64,0.0,-65])]  # this leg is moving, not involved in calcs \n",
    "]\n",
    "\n",
    "corr = Correction()\n",
    "c = corr.calcCorrection(feet)\n",
    "# print(feet[0][2])\n",
    "cfeet = corr.rotateFeetCorrected(feet, c)  # put correction back into leg frame\n",
    "for f in cfeet:\n",
    "            print('corr foot: {:.2f} {:.2f}'.format(*f[2][0:2]))\n",
    "plotFeetxyz(feet, cfeet, c)"
   ]
  },
  {
   "cell_type": "code",
   "execution_count": 22,
   "metadata": {
    "collapsed": false
   },
   "outputs": [
    {
     "data": {
      "text/plain": [
       "True"
      ]
     },
     "execution_count": 22,
     "metadata": {},
     "output_type": "execute_result"
    }
   ],
   "source": [
    "isinstance(np.array([1,1]), np.ndarray)"
   ]
  },
  {
   "cell_type": "code",
   "execution_count": 19,
   "metadata": {
    "collapsed": false
   },
   "outputs": [
    {
     "data": {
      "text/plain": [
       "int"
      ]
     },
     "execution_count": 19,
     "metadata": {},
     "output_type": "execute_result"
    }
   ],
   "source": [
    "type(4)"
   ]
  },
  {
   "cell_type": "code",
   "execution_count": 20,
   "metadata": {
    "collapsed": false
   },
   "outputs": [
    {
     "data": {
      "text/plain": [
       "numpy.ndarray"
      ]
     },
     "execution_count": 20,
     "metadata": {},
     "output_type": "execute_result"
    }
   ],
   "source": [
    "type(np.array([1,1]))"
   ]
  },
  {
   "cell_type": "markdown",
   "metadata": {
    "collapsed": true
   },
   "source": [
    "\n",
    "-----------\n",
    "\n",
    "<a rel=\"license\" href=\"http://creativecommons.org/licenses/by-sa/4.0/\"><img alt=\"Creative Commons License\" style=\"border-width:0\" src=\"https://i.creativecommons.org/l/by-sa/4.0/88x31.png\" /></a><br />This work is licensed under a <a rel=\"license\" href=\"http://creativecommons.org/licenses/by-sa/4.0/\">Creative Commons Attribution-ShareAlike 4.0 International License</a>."
   ]
  },
  {
   "cell_type": "code",
   "execution_count": null,
   "metadata": {
    "collapsed": true
   },
   "outputs": [],
   "source": []
  }
 ],
 "metadata": {
  "kernelspec": {
   "display_name": "Python 2",
   "language": "python",
   "name": "python2"
  },
  "language_info": {
   "codemirror_mode": {
    "name": "ipython",
    "version": 2
   },
   "file_extension": ".py",
   "mimetype": "text/x-python",
   "name": "python",
   "nbconvert_exporter": "python",
   "pygments_lexer": "ipython2",
   "version": "2.7.12"
  }
 },
 "nbformat": 4,
 "nbformat_minor": 1
}
