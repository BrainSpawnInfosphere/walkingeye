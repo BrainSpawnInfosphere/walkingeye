{
 "cells": [
  {
   "cell_type": "markdown",
   "metadata": {},
   "source": [
    "# Quadruped [Gait](https://en.wikipedia.org/wiki/Gait)\n",
    "\n",
    "---\n",
    "\n",
    "Kevin Walchko, created 8 Nov 2016\n",
    "\n"
   ]
  },
  {
   "cell_type": "code",
   "execution_count": 1,
   "metadata": {
    "collapsed": true
   },
   "outputs": [],
   "source": [
    "%matplotlib inline"
   ]
  },
  {
   "cell_type": "code",
   "execution_count": 48,
   "metadata": {
    "collapsed": true
   },
   "outputs": [],
   "source": [
    "from __future__ import print_function\n",
    "from __future__ import division\n",
    "import matplotlib.pyplot as plt\n",
    "import numpy as np\n",
    "from numpy.linalg import norm \n",
    "from math import sin, cos, pi, sqrt\n",
    "from math import radians as d2r"
   ]
  },
  {
   "cell_type": "markdown",
   "metadata": {},
   "source": [
    "## Hildebrand Diagram\n",
    "\n",
    "Example diagram from wikipedia:\n",
    "\n",
    "![](http://i.giphy.com/11kXFNRcZBFgwo.gif)\n",
    "\n",
    "![](https://upload.wikimedia.org/wikipedia/commons/thumb/c/cf/Gait_graphs.jpg/800px-Gait_graphs.jpg)\n",
    "\n",
    "$\\phi$ is the phase of each leg and $z$ is the foot height. The black bars indicate when a foot is in contact with the ground.\n",
    "\n",
    "Common gaits for quadrupeds (spider/crab configuration):\n",
    "\n",
    "* **Ripple Gait:** when one leg is in the air while the other three are holding up the body. This tends to be a stable gait when you keep the center of mass (CM) inside the triangle formed by the three legs in contact with the ground. Becuase of the stability, you could interrupt this gait at any time (i.e., stop it) and the robot will not fall over.\n",
    "\n",
    "* **Trott Gait:** A fast gait where two legs are in the air moving while the other two legs are in contact with the ground. This is an unstable gait and the robot could fall over if the gait is not executed quickly enough.\n",
    "\n",
    "Terminology:\n",
    "\n",
    "* **Duty Factor:** Duty factor is simply the percent of the total cycle which a given foot is on the ground. Duty factors over 50% are considered a \"walk\", while those less than 50% are considered a run. \n",
    "\n",
    "* **Forelimb-hindlimb Phase (or just Phase):** is the temporal relationship between the limb pairs."
   ]
  },
  {
   "cell_type": "code",
   "execution_count": 3,
   "metadata": {
    "collapsed": true
   },
   "outputs": [],
   "source": [
    "def printFoot(i, newpos):\n",
    "    if i == 0:\n",
    "        print('New [{}](x,y,z): {:.2f}\\t{:.2f}\\t{:.2f}'.format(i, newpos[0], newpos[1], newpos[2]))\n",
    "\n",
    "def rot_z(t, c):\n",
    "    \"\"\"\n",
    "    t - theta [radians]\n",
    "    c - [x,y,z] or [x,y] ... the function detects 2D or 3D vector\n",
    "    \"\"\"\n",
    "    if len(c) == 3:\n",
    "        ans = np.array([\n",
    "            c[0]*cos(t)-c[1]*sin(t),\n",
    "            c[0]*sin(t)+c[1]*cos(t),\n",
    "            c[2]\n",
    "        ])\n",
    "    else:\n",
    "        ans = np.array([\n",
    "            c[0]*cos(t)-c[1]*sin(t),\n",
    "            c[0]*sin(t)+c[1]*cos(t)\n",
    "        ])\n",
    "\n",
    "    return ans"
   ]
  },
  {
   "cell_type": "code",
   "execution_count": 4,
   "metadata": {
    "collapsed": false
   },
   "outputs": [
    {
     "name": "stdout",
     "output_type": "stream",
     "text": [
      "59.40 59.40 -65.00\n"
     ]
    }
   ],
   "source": [
    "print('{:.2f} {:.2f} {:.2f}'.format(*rot_z(pi/4, np.array([84,0,-65]))))"
   ]
  },
  {
   "cell_type": "code",
   "execution_count": 5,
   "metadata": {
    "collapsed": true
   },
   "outputs": [],
   "source": [
    "class Gait(object):\n",
    "    def __init__(self):\n",
    "        self.legOffset = [0, 6, 3, 9]\n",
    "#         self.body = np.array([72.12, 0, 0])\n",
    "        self.rest = None\n",
    "        \n",
    "    def calcRotatedOffset(self, cmd, frame_angle):\n",
    "        \"\"\"\n",
    "        calculate the foot offsets for each leg and delta linear/rotational\n",
    "        in - cmd(x,y,z_rotation)\n",
    "        out - array(leg0, leg1, ...)\n",
    "            where leg0 = {'linear': [x,y], 'rotational': [x,y], 'angle': zrotation(rads)}\n",
    "        \"\"\"\n",
    "        # I could do the same here as I do below for rotation\n",
    "        # rotate the command into the leg frame\n",
    "        rc = rot_z(frame_angle, cmd)\n",
    "\n",
    "        # get rotation distance: dist = rot_z(angle, rest) - rest\n",
    "        # this just reduces the function calls and math\n",
    "        zrot = d2r(float(cmd[2]))  # should I assume this is always radians? save conversion\n",
    "\n",
    "#         fromcenter = self.rest + self.body\n",
    "\n",
    "        # value of this?\n",
    "#         rot = rot_z(zrot/2, fromcenter) - rot_z(-zrot/2, fromcenter)\n",
    "\n",
    "#         ans = {'linear': rc, 'rotational': rot, 'angle': zrot}\n",
    "        ans = {'linear': rc, 'angle': zrot}\n",
    "\n",
    "        return ans\n",
    "    \n",
    "    def command(self, cmd, func, steps=12):\n",
    "        # handle no movement command ... do else where?\n",
    "        if sqrt(cmd[0]**2 + cmd[1]**2 + cmd[2]**2) < 0.001:\n",
    "            for leg in range(0, 4):\n",
    "                func(leg, self.rest)  # move to resting position\n",
    "            return\n",
    "\n",
    "        cmd = [100.0, 0.0, 0.0]\n",
    "        \n",
    "        # frame rotations for each leg\n",
    "        frame = [-pi/4, pi/4, 3*pi/4, -3*pi/4]\n",
    "\n",
    "        for i in range(0, steps):  # iteration, there are 12 steps in gait cycle\n",
    "            for legNum in [0, 2, 1, 3]:  # order them diagonally\n",
    "                rcmd = self.calcRotatedOffset(cmd, frame[legNum])\n",
    "                pos = self.eachLeg(i, rcmd)  # move each leg appropriately\n",
    "                func(legNum, pos)"
   ]
  },
  {
   "cell_type": "markdown",
   "metadata": {},
   "source": [
    "## Discrete Ripple Gait\n",
    "\n",
    "The gait uses an array to hold the leg/foot positions in an attempt to simplify the coding and reduce the computational requirements."
   ]
  },
  {
   "cell_type": "code",
   "execution_count": 6,
   "metadata": {
    "collapsed": true
   },
   "outputs": [],
   "source": [
    "class DiscreteRippleGait(Gait):\n",
    "    def __init__(self, h, r):\n",
    "        Gait.__init__(self)\n",
    "        self.phi = [9/9, 6/9, 3/9, 0/9, 1/9, 2/9, 3/9, 4/9, 5/9, 6/9, 7/9, 8/9]  # foot pos in gait sequence\n",
    "        maxl = h  #\n",
    "        minl = maxl/2\n",
    "        self.z = [minl, maxl, maxl, minl, 0.0, 0.0, 0.0, 0.0, 0.0, 0.0, 0.0, 0.0]  # leg height\n",
    "        self.rest = r # idle leg position\n",
    "\n",
    "    def eachLeg(self, index, cmd):\n",
    "        \"\"\"\n",
    "        interpolates the foot position of each leg\n",
    "        cmd:\n",
    "            linear (mm)\n",
    "            angle (rads)\n",
    "        \"\"\"\n",
    "        rest = self.rest\n",
    "        i = index % 12\n",
    "        phi = self.phi[i]\n",
    "\n",
    "        # rotational commands -----------------------------------------------\n",
    "        angle = cmd['angle']/2-cmd['angle']*phi\n",
    "        rest_rot = rot_z(-angle, rest)\n",
    "\n",
    "        # linear commands ----------------------------------------------------\n",
    "        linear = cmd['linear']\n",
    "        xx = linear[0]\n",
    "        yy = linear[1]\n",
    "\n",
    "        # create new move command\n",
    "        move = np.array([\n",
    "            xx/2 - phi*xx,\n",
    "            yy/2 - phi*yy,\n",
    "            self.z[i]\n",
    "        ])\n",
    "\n",
    "        # new foot position: newpos = rest + move ----------------------------\n",
    "        newpos = move + rest_rot\n",
    "        return newpos"
   ]
  },
  {
   "cell_type": "markdown",
   "metadata": {},
   "source": [
    "## Continous Ripple Gait\n",
    "\n",
    "Unlike the discrete gait above, this continous gait can be interpolated into finer steps in an attempt to slow down the speed of the gait or produce smoother movements."
   ]
  },
  {
   "cell_type": "code",
   "execution_count": 7,
   "metadata": {
    "collapsed": true
   },
   "outputs": [],
   "source": [
    "class ContinousRippleGait(Gait):\n",
    "    alpha = 0.5\n",
    "    \n",
    "    def __init__(self, h, r):\n",
    "        Gait.__init__(self)\n",
    "        self.height = h\n",
    "        self.rest = r\n",
    "    \n",
    "    def phi(self, x):\n",
    "        \"\"\"\n",
    "        The phase \n",
    "        \"\"\"\n",
    "        phi = 0.0\n",
    "        if x <= 3.0:\n",
    "            phi = 1/3*(3.0-x)\n",
    "        else:\n",
    "            phi = 1/9*(x-3)\n",
    "        return phi\n",
    "\n",
    "    def z(self, x):\n",
    "        \"\"\"\n",
    "        Leg height\n",
    "\n",
    "        duty cycle:\n",
    "            0-3: leg lifted\n",
    "            3-12: leg on ground\n",
    "            duty = (12-3)/12 = 0.75 = 75% a walking gait\n",
    "        \"\"\"\n",
    "        height = self.height\n",
    "        z = 0.0\n",
    "        if x <= 1:\n",
    "            z = height/1.0*x\n",
    "        elif x <= 2.0:\n",
    "            z = height\n",
    "        elif x <= 3.0:\n",
    "            z = -height/1.0*(x-2.0)+height\n",
    "        return z\n",
    "\n",
    "    def eachLeg(self, index, cmd):\n",
    "        \"\"\"\n",
    "        interpolates the foot position of each leg\n",
    "        \"\"\"\n",
    "        rest = self.rest\n",
    "        i = (index*self.alpha) % 12\n",
    "        phi = self.phi(i)\n",
    "        z = self.z(i)\n",
    "\n",
    "        # rotational commands -----------------------------------------------\n",
    "        angle = cmd['angle']/2-cmd['angle']*phi\n",
    "        rest_rot = rot_z(-angle, rest)\n",
    "\n",
    "        # linear commands ----------------------------------------------------\n",
    "        linear = cmd['linear']\n",
    "        xx = linear[0]\n",
    "        yy = linear[1]\n",
    "\n",
    "        # create new move command\n",
    "        move = np.array([\n",
    "            xx/2 - phi*xx,\n",
    "            yy/2 - phi*yy,\n",
    "            z\n",
    "        ])\n",
    "\n",
    "        # new foot position: newpos = rest + move ----------------------------\n",
    "        newpos = move + rest_rot\n",
    "        return newpos"
   ]
  },
  {
   "cell_type": "markdown",
   "metadata": {},
   "source": [
    "## Gait Plot\n",
    "\n",
    "Now select which gait you want and run it for just one leg. In reality you would need to do this for all 4 legs."
   ]
  },
  {
   "cell_type": "code",
   "execution_count": 94,
   "metadata": {
    "collapsed": false
   },
   "outputs": [
    {
     "name": "stdout",
     "output_type": "stream",
     "text": [
      "[ 77.60588073  32.14540832 -52.5       ]\n",
      "[ 83.28136836  10.96420015 -40.        ]\n",
      "[ 83.28136836 -10.96420015 -40.        ]\n",
      "[ 77.60588073 -32.14540832 -52.5       ]\n",
      "[ 80.11222386 -25.25928716 -65.        ]\n",
      "[ 82.0088646  -18.18092757 -65.        ]\n",
      "[ 83.28136836 -10.96420015 -65.        ]\n",
      "[ 83.92005061  -3.66402854 -65.        ]\n",
      "[ 83.92005061   3.66402854 -65.        ]\n",
      "[ 83.28136836  10.96420015 -65.        ]\n",
      "[ 82.0088646   18.18092757 -65.        ]\n",
      "[ 80.11222386  25.25928716 -65.        ]\n"
     ]
    }
   ],
   "source": [
    "cmd = {'linear': [0,0], 'angle': pi/4}\n",
    "leg = np.array([84,0.0,-65]) # idle leg position\n",
    "height = 25\n",
    "\n",
    "# gait = ContinousRippleGait(height, leg)\n",
    "gait = DiscreteRippleGait(height, leg)\n",
    "alpha = 1\n",
    "pos = []\n",
    "for i in range(0,12):\n",
    "    p = gait.eachLeg(i*alpha,cmd)\n",
    "    pos.append(p)\n",
    "    print(p)"
   ]
  },
  {
   "cell_type": "markdown",
   "metadata": {},
   "source": [
    "Now the code below runs the for all 4 legs and only prints out the position for leg 0. You can modify this above in the `printFoot` function. In reality, you would pass a function to move the leg. "
   ]
  },
  {
   "cell_type": "code",
   "execution_count": 8,
   "metadata": {
    "collapsed": false
   },
   "outputs": [
    {
     "name": "stdout",
     "output_type": "stream",
     "text": [
      "New [0](x,y,z): 48.64\t35.36\t-52.50\n",
      "New [0](x,y,z): 72.21\t11.79\t-40.00\n",
      "New [0](x,y,z): 95.79\t-11.79\t-40.00\n",
      "New [0](x,y,z): 119.36\t-35.36\t-52.50\n",
      "New [0](x,y,z): 111.50\t-27.50\t-65.00\n",
      "New [0](x,y,z): 103.64\t-19.64\t-65.00\n",
      "New [0](x,y,z): 95.79\t-11.79\t-65.00\n",
      "New [0](x,y,z): 87.93\t-3.93\t-65.00\n",
      "New [0](x,y,z): 80.07\t3.93\t-65.00\n",
      "New [0](x,y,z): 72.21\t11.79\t-65.00\n",
      "New [0](x,y,z): 64.36\t19.64\t-65.00\n",
      "New [0](x,y,z): 56.50\t27.50\t-65.00\n"
     ]
    }
   ],
   "source": [
    "# Run the entire class\n",
    "# remember!! command does a rotation of the leg coord system, so it\n",
    "# will output different numbers than above.\n",
    "cmd = [0,0,pi/4]\n",
    "leg = np.array([84,0.0,-65]) # idle leg position\n",
    "height = 25\n",
    "\n",
    "# gait = ContinousRippleGait(height, leg)\n",
    "# gait.alpha = 0.5\n",
    "gait = DiscreteRippleGait(height, leg)\n",
    "gait.command(cmd, printFoot, steps=12)  # doesn't return anything"
   ]
  },
  {
   "cell_type": "code",
   "execution_count": 96,
   "metadata": {
    "collapsed": false
   },
   "outputs": [
    {
     "data": {
      "image/png": "[encoded data removed]",
      "text/plain": [
       "<matplotlib.figure.Figure at 0x10f41c550>"
      ]
     },
     "metadata": {},
     "output_type": "display_data"
    }
   ],
   "source": [
    "px = []\n",
    "py = []\n",
    "pz = []\n",
    "for p in pos:\n",
    "    px.append(p[0])\n",
    "    py.append(p[1])\n",
    "    pz.append(p[2])\n",
    "\n",
    "plt.subplot(2,2,1);\n",
    "plt.plot(px)\n",
    "plt.ylabel('x')\n",
    "\n",
    "plt.subplot(2,2,2)\n",
    "plt.plot(py)\n",
    "plt.ylabel('y')\n",
    "\n",
    "plt.subplot(2,2,3);\n",
    "plt.plot(pz)\n",
    "plt.ylabel('z')\n",
    "\n",
    "plt.subplot(2,2,4);\n",
    "plt.plot(px,py)\n",
    "plt.ylabel('y')\n",
    "plt.xlabel('x');"
   ]
  },
  {
   "cell_type": "code",
   "execution_count": 93,
   "metadata": {
    "collapsed": false
   },
   "outputs": [
    {
     "name": "stdout",
     "output_type": "stream",
     "text": [
      "[ 77.60588073 -32.14540832 -52.5       ]\n",
      "[ 83.28136836 -10.96420015 -40.        ]\n",
      "[ 83.28136836  10.96420015 -40.        ]\n",
      "[ 77.60588073  32.14540832 -52.5       ]\n",
      "[ 80.11222386  25.25928716 -65.        ]\n",
      "[ 82.0088646   18.18092757 -65.        ]\n",
      "[ 83.28136836  10.96420015 -65.        ]\n",
      "[ 83.92005061   3.66402854 -65.        ]\n",
      "[ 83.92005061  -3.66402854 -65.        ]\n",
      "[ 83.28136836 -10.96420015 -65.        ]\n",
      "[ 82.0088646  -18.18092757 -65.        ]\n",
      "[ 80.11222386 -25.25928716 -65.        ]\n"
     ]
    }
   ],
   "source": [
    "for p in pos:\n",
    "    print(p)"
   ]
  },
  {
   "cell_type": "code",
   "execution_count": 72,
   "metadata": {
    "collapsed": false
   },
   "outputs": [
    {
     "name": "stdout",
     "output_type": "stream",
     "text": [
      "[-11.43680785 -10.29037264]\n"
     ]
    }
   ],
   "source": [
    "def inSideCM(pts):\n",
    "    \"\"\"\n",
    "    Determine if a point P is inside of a triangle composed of points\n",
    "    A, B, and C.\n",
    "    pts = [A,B,C]\n",
    "    P = [0,0] at the center of mass of the robot\n",
    "    returns True (inside triangle) or False (outside the triangle)\n",
    "    \"\"\"\n",
    "    A = pts[0]\n",
    "    B = pts[1]\n",
    "    C = pts[2]\n",
    "    P = np.array([0,0])  # CM is at the center :)\n",
    "    \n",
    "    # Compute vectors        \n",
    "    v0 = C - A\n",
    "    v1 = B - A\n",
    "    v2 = P - A\n",
    "\n",
    "    # Compute dot products\n",
    "    dot00 = np.dot(v0, v0)\n",
    "    dot01 = np.dot(v0, v1)\n",
    "    dot02 = np.dot(v0, v2)\n",
    "    dot11 = np.dot(v1, v1)\n",
    "    dot12 = np.dot(v1, v2)\n",
    "\n",
    "    # Compute barycentric coordinates\n",
    "    invDenom = 1 / (dot00 * dot11 - dot01 * dot01)\n",
    "    u = (dot11 * dot02 - dot01 * dot12) * invDenom\n",
    "    v = (dot00 * dot12 - dot01 * dot02) * invDenom\n",
    "\n",
    "    # Check if point is in triangle\n",
    "    return (u >= 0) and (v >= 0) and (u + v < 1)\n",
    "\n",
    "def lineIntersection(p1,p2,p3,p4):\n",
    "    \"\"\"\n",
    "    Find the intersection of 2 lines.\n",
    "    line 1: p1, p2\n",
    "    line 2: p3, p4\n",
    "    \"\"\"\n",
    "    x1 = p1[0]\n",
    "    x2 = p2[0]\n",
    "    x3 = p3[0]\n",
    "    x4 = p4[0]\n",
    "    y1 = p1[1]\n",
    "    y2 = p2[1]\n",
    "    y3 = p3[1]\n",
    "    y4 = p4[1]\n",
    "    \n",
    "    denom = ((x1 - x2)*(y3 - y4) - (y1 - y2)*(x3 - x4))\n",
    "    if abs(denom) < 0.00001:\n",
    "        # print('crap {}'.format(denom))\n",
    "        return np.array([0,0])\n",
    "    x = ((x1*y2 - y1*x2)*(x3 - x4) - (x1 - x2)*(x3*y4 - y3*x4))/denom\n",
    "    y = ((x1*y2 - y1*x2)*(y3 - y4) - (y1 - y2)*(x3*y4 - y3*x4))/denom\n",
    "    return np.array([x, y])\n",
    "\n",
    "def min(a):\n",
    "    \"\"\"\n",
    "    Find the minimum vector in an array of 2D vectors.\n",
    "    in = [[1,2], [2,3], ...]\n",
    "    out = [1,2]\n",
    "    \"\"\"\n",
    "    minv = 0\n",
    "    min_val = 1000000000000000\n",
    "    for p in a:\n",
    "        val = norm(p)\n",
    "        if val < min_val:\n",
    "            min_val = val\n",
    "            minv = p\n",
    "    return minv\n",
    "\n",
    "def checkCM(pts):\n",
    "    \"\"\"\n",
    "    Given the robot's foot locations, provide correction if the \n",
    "    center of mass (CM) is outside the triangle formed by the 3\n",
    "    foot locations.\n",
    "    pts = [foot0, foot1, foot2]\n",
    "    correction = [x,y]\n",
    "    \"\"\"\n",
    "    correction = np.array([0,0])\n",
    "\n",
    "    if not inSideCM(pts):\n",
    "        a = []\n",
    "        for i in range(0, 3):\n",
    "            p0 = pts[i]\n",
    "            p1 = pts[(i+1) % 3]\n",
    "            x1 = 50\n",
    "            x0 = -50\n",
    "            cm1 = np.array([x1, -(p1[0] - p0[0])/(p1[1] - p0[1])*x1])\n",
    "            cm0 = np.array([x0, -(p1[0] - p0[0])/(p1[1] - p0[1])*x0])\n",
    "            xx = lineIntersection(p0,p1,cm0,cm1)\n",
    "            a.append(xx)\n",
    "        a = min(a)\n",
    "        correction = -a\n",
    "    return correction\n",
    "\n",
    "cm = 45*cos(pi/4)\n",
    "\n",
    "offset = [\n",
    "    np.array([cm, cm]),\n",
    "    np.array([cm, -cm]),\n",
    "    np.array([-cm, -cm]),\n",
    "    np.array([-cm, cm])\n",
    "]\n",
    "\n",
    "pts = [\n",
    "    np.array([30,60]) + offset[0],    # 0\n",
    "    np.array([40,-25]) + offset[1],   # 1\n",
    "    np.array([-31, 61]) + offset[3]   # 3\n",
    "]\n",
    "\n",
    "corr = checkCM(pts)\n",
    "print(corr)"
   ]
  },
  {
   "cell_type": "code",
   "execution_count": 71,
   "metadata": {
    "collapsed": false
   },
   "outputs": [
    {
     "data": {
      "image/png": "[encoded data removed]",
      "text/plain": [
       "<matplotlib.figure.Figure at 0x10ba918d0>"
      ]
     },
     "metadata": {},
     "output_type": "display_data"
    }
   ],
   "source": [
    "px = []\n",
    "py = []\n",
    "# pz = []\n",
    "for p in pts:\n",
    "    px.append(p[0])\n",
    "    py.append(p[1])\n",
    "#     pz.append(p[2])\n",
    "px.append(0)\n",
    "py.append(0)\n",
    "\n",
    "# plt.subplot(2,2,1);\n",
    "plt.scatter(px, py)\n",
    "plt.grid(True)\n",
    "# plt.ylabel('x')"
   ]
  },
  {
   "cell_type": "code",
   "execution_count": 60,
   "metadata": {
    "collapsed": false
   },
   "outputs": [
    {
     "name": "stdout",
     "output_type": "stream",
     "text": [
      "[array([ 61.81980515,  91.81980515]), array([ 71.81980515, -56.81980515]), array([-62.81980515,  92.81980515])]\n",
      "[-62.81980515  92.81980515]\n"
     ]
    }
   ],
   "source": [
    "a=[[-1,1], [-2,3]]\n",
    "print(pts)\n",
    "min = 0\n",
    "min_val = 1000000000000000\n",
    "for p in pts:\n",
    "    val = norm(p)\n",
    "    if val < min_val:\n",
    "        min = p\n",
    "print(min)"
   ]
  },
  {
   "cell_type": "code",
   "execution_count": 64,
   "metadata": {
    "collapsed": false
   },
   "outputs": [
    {
     "name": "stdout",
     "output_type": "stream",
     "text": [
      "15.3848088339\n",
      "92.3128225176\n"
     ]
    }
   ],
   "source": [
    "print(abs(np.linalg.norm([11.4368078486307, 10.290372640882252])))\n",
    "print(abs(np.linalg.norm([0.74061408982293475, 92.309851543248016])))"
   ]
  },
  {
   "cell_type": "markdown",
   "metadata": {},
   "source": [
    "\n",
    "-----------\n",
    "\n",
    "<a rel=\"license\" href=\"http://creativecommons.org/licenses/by-sa/4.0/\"><img alt=\"Creative Commons License\" style=\"border-width:0\" src=\"https://i.creativecommons.org/l/by-sa/4.0/88x31.png\" /></a><br />This work is licensed under a <a rel=\"license\" href=\"http://creativecommons.org/licenses/by-sa/4.0/\">Creative Commons Attribution-ShareAlike 4.0 International License</a>."
   ]
  }
 ],
 "metadata": {
  "kernelspec": {
   "display_name": "Python 2",
   "language": "python",
   "name": "python2"
  },
  "language_info": {
   "codemirror_mode": {
    "name": "ipython",
    "version": 2
   },
   "file_extension": ".py",
   "mimetype": "text/x-python",
   "name": "python",
   "nbconvert_exporter": "python",
   "pygments_lexer": "ipython2",
   "version": "2.7.12"
  }
 },
 "nbformat": 4,
 "nbformat_minor": 1
}
