{
 "cells": [
  {
   "cell_type": "markdown",
   "metadata": {},
   "source": [
    "# Video Odometry\n",
    "\n",
    "Kevin Walchko, 7 Dec 2016\n",
    "\n",
    "-------------"
   ]
  },
  {
   "cell_type": "code",
   "execution_count": 1,
   "metadata": {
    "collapsed": true
   },
   "outputs": [],
   "source": [
    "%matplotlib inline"
   ]
  },
  {
   "cell_type": "code",
   "execution_count": 2,
   "metadata": {
    "collapsed": true
   },
   "outputs": [],
   "source": [
    "from __future__ import print_function\n",
    "from __future__ import division\n",
    "import matplotlib.pyplot as plt\n",
    "import numpy as np\n",
    "import cv2"
   ]
  },
  {
   "cell_type": "code",
   "execution_count": null,
   "metadata": {
    "collapsed": true
   },
   "outputs": [],
   "source": [
    "def featureDetection(im):\n",
    "    # Initiate FAST object with default values\n",
    "    # fast = cv2.FastFeatureDetector_create(20,True)\n",
    "    # fast = cv2.FastFeatureDetector_create()\n",
    "    # fast.setNonmaxSuppression(True)\n",
    "    # fast.setThreshold(20)\n",
    "    # # find and draw the keypoints\n",
    "    # keypoints = fast.detect(im)\n",
    "    # keypoints=np.array([[k.pt] for k in keypoints],dtype='f4')\n",
    "    # print 'fast keypoints',keypoints.shape\n",
    "\n",
    "    # orb = cv2.ORB_create()\n",
    "    # keypoints = orb.detect(im,None)\n",
    "    # keypoints=np.array([[k.pt] for k in keypoints],dtype='f4')\n",
    "    # print 'orb shape',keypoints.shape\n",
    "\n",
    "    # params for ShiTomasi corner detection\n",
    "    feature_params = dict( maxCorners = 500,\n",
    "        qualityLevel = 0.3,\n",
    "        minDistance = 7,\n",
    "        blockSize = 7 )\n",
    "    keypoints = cv2.goodFeaturesToTrack(im, mask = None, **feature_params)\n",
    "    print 'goodFeaturesToTrack shape',keypoints.shape\n",
    "\n",
    "    return keypoints"
   ]
  },
  {
   "cell_type": "code",
   "execution_count": null,
   "metadata": {
    "collapsed": true
   },
   "outputs": [],
   "source": [
    "def cullBadPts(p0,p1,st,err):\n",
    "    new = []\n",
    "    old = []\n",
    "\n",
    "    # print 'st',st\n",
    "    # print 'err',err\n",
    "    # print 'p1',p1\n",
    "    # print 'p0',p0\n",
    "    # exit()\n",
    "\n",
    "    # Select good points\n",
    "    for i in range(0,p1.shape[0]):\n",
    "        # print 'st',st[i]\n",
    "        # print 'p1',p1[i]\n",
    "        if st[i][0] == 1 and p1[i][0][0] >= 0 and p1[i][0][1] >= 0:\n",
    "            new.append(p1[i][0])\n",
    "            old.append(p0[i][0])\n",
    "\n",
    "    good_new = np.array([[k] for k in new],dtype=np.float32)\n",
    "    good_old = np.array([[k] for k in old],dtype=np.float32)\n",
    "\n",
    "    return good_old, good_new"
   ]
  },
  {
   "cell_type": "code",
   "execution_count": null,
   "metadata": {
    "collapsed": true
   },
   "outputs": [],
   "source": [
    "def featureTrack(new_gray,old_gray,p0):\n",
    "    # Parameters for lucas kanade optical flow\n",
    "    lk_params = dict( winSize  = (10,10),\n",
    "                  maxLevel = 3,\n",
    "                  criteria = (cv2.TERM_CRITERIA_EPS | cv2.TERM_CRITERIA_COUNT, 10, 0.03))\n",
    "\n",
    "    p1, st, err = cv2.calcOpticalFlowPyrLK(old_gray, new_gray, p0, None, **lk_params)\n",
    "\n",
    "    p0,p1 = cullBadPts(p0,p1,st,err)\n",
    "\n",
    "    return p0, p1"
   ]
  },
  {
   "cell_type": "code",
   "execution_count": null,
   "metadata": {
    "collapsed": true
   },
   "outputs": [],
   "source": [
    "cam = video.Camera('floor.mp4')\n",
    "cam.setROI((0,479,210,639))\n",
    "# cam.load('camera_params.npz')\n",
    "# cameraMat = cam.data['camera_matrix']\n",
    "\n",
    "\n",
    "pp = (240,220)\n",
    "focal = 200.0\n",
    "R_f = np.eye(3,3,dtype=np.float)\n",
    "t_f = np.array([0,0,0],dtype=np.float)\n",
    "# R = np.zeros((3,3),dtype=np.float)\n",
    "R = R_f.copy()\n",
    "t = np.array([0,0,0],dtype=np.float)\n",
    "t_prev = t.copy()\n",
    "dist = 0.0\n",
    "\n",
    "# cv2.IMREAD_GRAYSCALE faster?\n",
    "ret, old_im = cam.read(True)\n",
    "ret, im = cam.read(True)\n",
    "p0 = featureDetection(old_im)\n",
    "# p0, p1 = featureTrack(im,old_im,p0)\n",
    "# E, mask = cv2.findEssentialMat(p0,p1,focal,pp,cv2.FM_RANSAC, 0.999, 1.0)\n",
    "# retval, R, t, mask = cv2.recoverPose(E,p0,p1,R,t,focal,pp,mask)\n",
    "\n",
    "save_pts = []\n",
    "while(cam.isOpened()):\n",
    "    try:\n",
    "        ret, im = cam.read(True)\n",
    "\n",
    "        # end of video\n",
    "        if not ret:\n",
    "            print 'video end'\n",
    "            draw(save_pts)\n",
    "            break\n",
    "\n",
    "        # Not enough old points, p0\n",
    "        if p0.shape[0] < 50:\n",
    "            print '------- reset --------'\n",
    "            p0 = featureDetection(im)\n",
    "            if p0.shape[0] == 0:\n",
    "                print 'bad image'\n",
    "                continue\n",
    "\n",
    "        # p0 - old pts\n",
    "        # p1 - new pts\n",
    "        p0, p1 = featureTrack(im,old_im,p0)\n",
    "\n",
    "        # not enough new points p1\n",
    "        if p1.shape[0] < 50:\n",
    "            print '------- reset p1 --------'\n",
    "            continue\n",
    "\n",
    "        drawKeyPoints(im,p1)\n",
    "\n",
    "        # since these are rectified images, fundatmental (F) = essential (E)\n",
    "        # E, mask = cv2.findEssentialMat(p0,p1,focal,pp,cv2.FM_RANSAC)\n",
    "        # retval, R, t, mask = cv2.recoverPose(E,p0,p1,R_f,t_f,focal,pp,mask)\n",
    "\n",
    "        E, mask = cv2.findEssentialMat(p0,p1,focal,pp,cv2.FM_RANSAC, 0.999, 1.0)\n",
    "        retval, R, t, mask = cv2.recoverPose(E,p0,p1,R,t,focal,pp,mask)\n",
    "        # print retval,R\n",
    "\n",
    "        # Now update the previous frame and previous points\n",
    "        old_im = im.copy()\n",
    "        # p0 = p1.reshape(-1,1,2)\n",
    "        p0 = p1\n",
    "\n",
    "        # print 'p0 size',p0.shape\n",
    "        # print 'p1 size',p1.shape\n",
    "        # print 't',t\n",
    "        # dt = t - t_prev\n",
    "        # scale = np.linalg.norm(dt)\n",
    "        # print scale\n",
    "        scale = 1.0\n",
    "\n",
    "        R_f = R.dot(R_f)\n",
    "        # t_f = t\n",
    "        t_f = t_f + scale*R_f.dot(t)\n",
    "\n",
    "        # t_prev = t\n",
    "        # t_f = t_f/t_f[2]\n",
    "        # dist += np.linalg.norm(t_f[:2])\n",
    "\n",
    "        # num = np.array([t_f[0]/t_f[2],t_f[1]/t_f[2]])\n",
    "        # num = t_f\n",
    "        # print 'position:', t_f\n",
    "        # print 'distance:', dist\n",
    "        # R_f = R*R_f\n",
    "        # print 'R:',R_f,'t:',t_f\n",
    "        # print t_f\n",
    "\n",
    "        save_pts.append(t_f)\n",
    "        # save_pts.append(t_f[:2])\n",
    "\n",
    "    except KeyboardInterrupt:\n",
    "        print 'captured interrupt'\n",
    "        break\n",
    "\n",
    "cam.release()"
   ]
  },
  {
   "cell_type": "code",
   "execution_count": null,
   "metadata": {
    "collapsed": true
   },
   "outputs": [],
   "source": []
  },
  {
   "cell_type": "code",
   "execution_count": null,
   "metadata": {
    "collapsed": true
   },
   "outputs": [],
   "source": []
  },
  {
   "cell_type": "markdown",
   "metadata": {},
   "source": [
    "\n",
    "-----------\n",
    "\n",
    "<a rel=\"license\" href=\"http://creativecommons.org/licenses/by-sa/4.0/\"><img alt=\"Creative Commons License\" style=\"border-width:0\" src=\"https://i.creativecommons.org/l/by-sa/4.0/88x31.png\" /></a><br />This work is licensed under a <a rel=\"license\" href=\"http://creativecommons.org/licenses/by-sa/4.0/\">Creative Commons Attribution-ShareAlike 4.0 International License</a>."
   ]
  },
  {
   "cell_type": "code",
   "execution_count": null,
   "metadata": {
    "collapsed": true
   },
   "outputs": [],
   "source": []
  }
 ],
 "metadata": {
  "kernelspec": {
   "display_name": "Python 2",
   "language": "python",
   "name": "python2"
  },
  "language_info": {
   "codemirror_mode": {
    "name": "ipython",
    "version": 2
   },
   "file_extension": ".py",
   "mimetype": "text/x-python",
   "name": "python",
   "nbconvert_exporter": "python",
   "pygments_lexer": "ipython2",
   "version": "2.7.12"
  }
 },
 "nbformat": 4,
 "nbformat_minor": 2
}
