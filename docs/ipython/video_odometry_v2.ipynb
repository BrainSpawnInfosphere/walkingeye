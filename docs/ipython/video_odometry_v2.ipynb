{
 "cells": [
  {
   "cell_type": "markdown",
   "metadata": {},
   "source": [
    "# Video Odometry\n",
    "\n",
    "Kevin Walchko, 7 Dec 2016\n",
    "\n",
    "-------------\n",
    "\n",
    "In robotics and computer vision, visual odometry is the process of determining the position and orientation of a robot by analyzing the associated camera images. It has been used in a wide variety of robotic applications, such as on the Mars Exploration Rovers.\n",
    "\n",
    "## Overview\n",
    "\n",
    "In navigation, odometry is the use of data from the movement of actuators to estimate change in position over time through devices such as rotary encoders to measure wheel rotations. While useful for many wheeled or tracked vehicles, traditional odometry techniques cannot be applied to mobile robots with non-standard locomotion methods, such as legged robots. In addition, odometry universally suffers from precision problems, since wheels tend to slip and slide on the floor creating a non-uniform distance traveled as compared to the wheel rotations. The error is compounded when the vehicle operates on non-smooth surfaces. Odometry readings become increasingly unreliable over time as these errors accumulate and compound over time.\n",
    "\n",
    "Visual odometry is the process of determining equivalent odometry information using sequential camera images to estimate the distance traveled. Visual odometry allows for enhanced navigational accuracy in robots or vehicles using any type of locomotion on any surface.\n",
    "\n",
    "## Algorithm\n",
    "\n",
    "Most existing approaches to visual odometry are based on the following stages:\n",
    "\n",
    "1. Acquire input images: using either single cameras.\n",
    "2. Image correction: apply image processing techniques for lens distortion removal, etc.\n",
    "3. Feature detection: define interest operators, and match features across frames and construct optical flow field.Construct optical flow field (Lucas–Kanade method).\n",
    "3. Check flow field vectors for potential tracking errors and remove outliers.\n",
    "4. Estimation of the camera motion from the optical flow.find the geometric and 3D properties of the features that minimize a cost function based on the re-projection error between two adjacent images. This can be done by mathematical minimization or random sampling.\n",
    "5. Periodic repopulation of trackpoints to maintain coverage across the image.\n",
    "\n",
    "## Ergomotion\n",
    "\n",
    "*Egomotion* is defined as the 3D motion of a camera within an environment. In the field of computer vision, egomotion refers to estimating a camera's motion relative to a rigid scene. An example of egomotion estimation would be estimating a car's moving position relative to lines on the road or street signs being observed from the car itself. The estimation of egomotion is important in autonomous robot navigation applications."
   ]
  },
  {
   "cell_type": "code",
   "execution_count": 1,
   "metadata": {
    "collapsed": true
   },
   "outputs": [],
   "source": [
    "%matplotlib inline"
   ]
  },
  {
   "cell_type": "code",
   "execution_count": 93,
   "metadata": {
    "collapsed": false
   },
   "outputs": [],
   "source": [
    "from __future__ import print_function\n",
    "from __future__ import division\n",
    "import matplotlib.pyplot as plt\n",
    "from opencvutils.video import Camera\n",
    "import opencvutils as cvu\n",
    "# from opencvutils.jupyter import imshow\n",
    "import numpy as np\n",
    "import cv2\n",
    "import time"
   ]
  },
  {
   "cell_type": "code",
   "execution_count": 94,
   "metadata": {
    "collapsed": false
   },
   "outputs": [],
   "source": [
    "class VOError(Exception):\n",
    "    \"\"\"Exception for video odometry\"\"\"\n",
    "    pass\n",
    "\n",
    "class VideoOdom(object):\n",
    "    \"\"\"\n",
    "    Determine translation using optical flow.\n",
    "    \"\"\"\n",
    "    old_im = None\n",
    "    p0 = None\n",
    "    numberPts = 50\n",
    "    \n",
    "    def __init__(self, pp, focal):\n",
    "        \"\"\"\n",
    "        Initialize the class.\n",
    "        \n",
    "        params:\n",
    "            pp: image center tuple, (width, height)\n",
    "            focal: camera focal length in mm\n",
    "        \"\"\"\n",
    "        # pp = (240,220)\n",
    "        # focal = 200.0\n",
    "        self.pp = pp  # image center\n",
    "        self.focal = focal  # focal length in mm\n",
    "\n",
    "        self.R_f = np.eye(3, 3, dtype=np.float)\n",
    "        self.t_f = np.array([0.0, 0, 0], dtype=np.float)  # total translation\n",
    "        self.R = self.R_f.copy()\n",
    "        self.t = np.array([0, 0, 0], dtype=np.float)  # delta translation\n",
    "\n",
    "    @staticmethod\n",
    "    def featureDetection(im):\n",
    "        \"\"\"\n",
    "        Identifies potential features to track using ShiTomasi corner detection.\n",
    "        \n",
    "        params:\n",
    "            im: current image\n",
    "            \n",
    "        returns:\n",
    "            keypoints from cv2.goodFeaturesToTrack()\n",
    "        \"\"\"\n",
    "        # params for ShiTomasi corner detection\n",
    "        feature_params = dict(\n",
    "            maxCorners=500,\n",
    "            qualityLevel=0.3,\n",
    "            minDistance=7,\n",
    "            blockSize=7\n",
    "        )\n",
    "        \n",
    "        keypoints = cv2.goodFeaturesToTrack(\n",
    "            im,\n",
    "            mask=None,\n",
    "            **feature_params\n",
    "        )\n",
    "\n",
    "        return keypoints\n",
    "\n",
    "    def cullBadPts(self, p0, p1, st, err):\n",
    "        \"\"\"\n",
    "        Searches through points and removes bad points.\n",
    "        p1, st, err = cv2.calcOpticalFlowPyrLK()\n",
    "        \n",
    "        params:\n",
    "            p0: old points\n",
    "            p1: new points\n",
    "            st: array of errors\n",
    "            err: ???\n",
    "            \n",
    "        returns:\n",
    "            good_old_pts, good_new_pts\n",
    "        \"\"\"\n",
    "        new = []\n",
    "        old = []\n",
    "\n",
    "        # Select good points\n",
    "        for i in range(0, p1.shape[0]):\n",
    "            if st[i][0] == 1 and p1[i][0][0] >= 0 and p1[i][0][1] >= 0:\n",
    "                new.append(p1[i][0])\n",
    "                old.append(p0[i][0])\n",
    "\n",
    "        good_new = np.array([[k] for k in new], dtype=np.float32)\n",
    "        good_old = np.array([[k] for k in old], dtype=np.float32)\n",
    "\n",
    "        return good_old, good_new\n",
    "\n",
    "    def featureTrack(self, new_gray, old_gray, p0):\n",
    "        \"\"\"\n",
    "        Calculates optical flow using Luis Kincade techniques.\n",
    "        \n",
    "        params:\n",
    "            new_gray: current image\n",
    "            old_gray: old image\n",
    "            p0: old points\n",
    "            \n",
    "        returns:\n",
    "            old_pts, new_pts\n",
    "        \"\"\"\n",
    "        # Parameters for lucas kanade optical flow\n",
    "        lk_params = dict(\n",
    "            winSize=(10, 10),\n",
    "            maxLevel=3,\n",
    "            criteria=(cv2.TERM_CRITERIA_EPS | cv2.TERM_CRITERIA_COUNT, 10, 0.03)\n",
    "        )\n",
    "\n",
    "        p1, st, err = cv2.calcOpticalFlowPyrLK(\n",
    "            old_gray,\n",
    "            new_gray,\n",
    "            p0,\n",
    "            None,\n",
    "            **lk_params\n",
    "        )\n",
    "\n",
    "        p0, p1 = self.cullBadPts(p0, p1, st, err)\n",
    "\n",
    "        return p0, p1\n",
    "    \n",
    "    def find(self, im):\n",
    "        \"\"\"\n",
    "        Use a current and previous image to calculate translation using optical flow\n",
    "        techniques.\n",
    "        \n",
    "        params:\n",
    "            im: current image in grayscale\n",
    "            \n",
    "        returns:\n",
    "            translation = np.array([x, y, z]), but z should be 0.0\n",
    "            bool, total_distance, delta_distance\n",
    "        \"\"\"\n",
    "        # make sure there is an Image, else return failure\n",
    "        if im is None:\n",
    "            return False, None, None\n",
    "        \n",
    "        # init system with current image\n",
    "        # should result in zero change\n",
    "        if self.old_im is None:\n",
    "            self.old_im = im.copy()\n",
    "            self.p0 = self.featureDetection(im)\n",
    "        \n",
    "        # get values from last run\n",
    "        p0 = self.p0\n",
    "        R = self.R\n",
    "        t = self.t\n",
    "        R_f = self.R_f\n",
    "        t_f = self.t_f\n",
    "        old_im = self.old_im\n",
    "        \n",
    "        try:\n",
    "            # Not enough old points, p0 ... find new ones\n",
    "            if p0.shape[0] < self.numberPts:\n",
    "                print('------- reset p0 --------')\n",
    "                p0 = self.featureDetection(old_im)\n",
    "                \n",
    "                if p0 is None or p0.shape[0] == 0:\n",
    "                    print('bad image')\n",
    "                    return False, None, None\n",
    "\n",
    "            # p0 - old pts\n",
    "            # p1 - new pts\n",
    "            p0, p1 = self.featureTrack(im, old_im, p0)\n",
    "\n",
    "            # not enough new points p1 ... bad image?\n",
    "            if p1.shape[0] < self.numberPts:\n",
    "                print('------- reset p1 --------')\n",
    "                print('p1 size:', p1.shape)\n",
    "                self.old_im = im\n",
    "                self.p0 = p1\n",
    "                return False, None, None\n",
    "\n",
    "            # since these are rectified images, fundatmental (F) = essential (E)\n",
    "            # E, mask = cv2.findEssentialMat(p0,p1,focal,pp,cv2.FM_RANSAC)\n",
    "            # retval, R, t, mask = cv2.recoverPose(E,p0,p1,R_f,t_f,focal,pp,mask)\n",
    "\n",
    "            E, mask = cv2.findEssentialMat(p0, p1, self.focal, self.pp, cv2.FM_RANSAC, 0.999, 1.0)\n",
    "            retval, R, t, mask = cv2.recoverPose(E, p0, p1, R, t, self.focal, self.pp, mask)\n",
    "\n",
    "            scale = 1.0\n",
    "            \n",
    "            # R_f is total rotation\n",
    "            # R is delta rotation\n",
    "            # t_f is total distance [mm]\n",
    "            # t delta distance [mm]\n",
    "\n",
    "            R_f = R.dot(R_f)\n",
    "            t_f = t_f + scale * R_f.dot(t)\n",
    "\n",
    "            # save all\n",
    "            self.p0 = p1\n",
    "            self.R_f = R_f\n",
    "            self.t_f = t_f\n",
    "            self.old_im = im.copy()\n",
    "            self.t = t\n",
    "            self.R = R\n",
    "            \n",
    "            return True, t_f, scale*R_f.dot(t)\n",
    "        except:\n",
    "            print('ERROR vo: something happened')\n",
    "            raise"
   ]
  },
  {
   "cell_type": "code",
   "execution_count": 56,
   "metadata": {
    "collapsed": false
   },
   "outputs": [],
   "source": [
    "# dir(Camera)\n",
    "# help(Camera.read)\n",
    "# dir(cvu)"
   ]
  },
  {
   "cell_type": "markdown",
   "metadata": {},
   "source": [
    "## Live Video"
   ]
  },
  {
   "cell_type": "code",
   "execution_count": 42,
   "metadata": {
    "collapsed": false
   },
   "outputs": [
    {
     "name": "stdout",
     "output_type": "stream",
     "text": [
      "[+] Camera type 1\n",
      "exiting CameraCV ... bye!\n",
      "win (640, 480)\n",
      "setting win size to: (640, 480)\n",
      "Camera opended?  True\n",
      "saved: image_0.png\n",
      "t [ 0.57735027 -0.57735027  0.57735027] <type 'numpy.ndarray'>\n",
      "Camera opended?  True\n",
      "saved: image_1.png\n",
      "t [ 1.52648375 -0.49915114  0.27234121] <type 'numpy.ndarray'>\n",
      "Camera opended?  True\n",
      "saved: image_2.png\n",
      "t [ 2.47109117 -0.31182587  0.00284898] <type 'numpy.ndarray'>\n",
      "Camera opended?  True\n",
      "saved: image_3.png\n",
      "t [ 3.46447361 -0.42391761 -0.02218635] <type 'numpy.ndarray'>\n",
      "Camera opended?  True\n",
      "saved: image_4.png\n",
      "t [ 4.32413073  0.0530588  -0.20517036] <type 'numpy.ndarray'>\n"
     ]
    }
   ],
   "source": [
    "vo = VideoOdom((320, 240), 200)\n",
    "# vo.init((320, 240), 200)\n",
    "vo.numberPts = 10\n",
    "\n",
    "cam = Camera('cv')\n",
    "cam.init(win=(640, 480), cameraNumber=0)\n",
    "cam.gray = True\n",
    "# cam.load('camera_params.npz')\n",
    "# cameraMat = cam.data['camera_matrix']\n",
    "\n",
    "save_pts = []\n",
    "for iter in range(5):\n",
    "    try:\n",
    "        print('Camera opended? ', cam.isOpen())\n",
    "        ret, im = cam.read()\n",
    "\n",
    "        if not ret:\n",
    "            continue\n",
    "\n",
    "        if False:\n",
    "            fname = 'image_{}.png'.format(iter)\n",
    "            cv2.imwrite(fname, im)\n",
    "            print('saved:', fname)\n",
    "\n",
    "        ret, t = vo.find(im)\n",
    "\n",
    "        # print('t', t, type(t))\n",
    "\n",
    "        if ret:\n",
    "            save_pts.append(t)\n",
    "        \n",
    "        time.sleep(1)\n",
    "        \n",
    "    except:\n",
    "        print('crap')\n",
    "        continue\n",
    "        \n",
    "cam.camera.camera.release()  # fix this!"
   ]
  },
  {
   "cell_type": "markdown",
   "metadata": {
    "collapsed": true
   },
   "source": [
    "## Stored Images\n",
    "\n",
    "Find translation from a series of images."
   ]
  },
  {
   "cell_type": "code",
   "execution_count": 96,
   "metadata": {
    "collapsed": true
   },
   "outputs": [],
   "source": [
    "imgs = []\n",
    "for iter in range(5):\n",
    "    fname = 'image_{}.png'.format(iter)\n",
    "    im = cv2.imread(fname)\n",
    "    imgs.append(im)"
   ]
  },
  {
   "cell_type": "code",
   "execution_count": 98,
   "metadata": {
    "collapsed": false
   },
   "outputs": [
    {
     "name": "stdout",
     "output_type": "stream",
     "text": [
      "crap /tmp/opencv3-20161211-55427-1q3z61z/modules/imgproc/src/corner.cpp:287: error: (-215) src.type() == CV_8UC1 || src.type() == CV_32FC1 in function cornerEigenValsVecs\n",
      "\n",
      "ERROR vo: something happened\n",
      "crap 'NoneType' object has no attribute 'shape'\n",
      "ERROR vo: something happened\n",
      "crap 'NoneType' object has no attribute 'shape'\n",
      "ERROR vo: something happened\n",
      "crap 'NoneType' object has no attribute 'shape'\n",
      "ERROR vo: something happened\n",
      "crap 'NoneType' object has no attribute 'shape'\n"
     ]
    }
   ],
   "source": [
    "vo = VideoOdom((320, 240), 200)\n",
    "vo.numberPts = 10\n",
    "\n",
    "save_pts = []\n",
    "for im in imgs:\n",
    "    try:\n",
    "        ret, tf, t = vo.find(im)\n",
    "\n",
    "        if ret:\n",
    "            save_pts.append(t)\n",
    "            \n",
    "    except Exception as e:\n",
    "        print('crap', e)\n",
    "        continue"
   ]
  },
  {
   "cell_type": "code",
   "execution_count": 86,
   "metadata": {
    "collapsed": false
   },
   "outputs": [
    {
     "data": {
      "image/png": "[encoded data removed]",
      "text/plain": [
       "<matplotlib.figure.Figure at 0x1194a9f10>"
      ]
     },
     "metadata": {},
     "output_type": "display_data"
    }
   ],
   "source": [
    "xx = []\n",
    "yy = []\n",
    "for x,y,z in save_pts:\n",
    "    xx.append(x)\n",
    "    yy.append(y)\n",
    "plt.plot(xx, yy)\n",
    "plt.grid(True)\n",
    "plt.ylabel('Y Translation [mm]');\n",
    "plt.xlabel('X Translation [mm]');"
   ]
  },
  {
   "cell_type": "code",
   "execution_count": 1,
   "metadata": {
    "collapsed": false
   },
   "outputs": [
    {
     "ename": "NameError",
     "evalue": "name 'plt' is not defined",
     "output_type": "error",
     "traceback": [
      "\u001b[0;31m---------------------------------------------------------------------------\u001b[0m",
      "\u001b[0;31mNameError\u001b[0m                                 Traceback (most recent call last)",
      "\u001b[0;32m<ipython-input-1-b21ddd6ac81b>\u001b[0m in \u001b[0;36m<module>\u001b[0;34m()\u001b[0m\n\u001b[0;32m----> 1\u001b[0;31m \u001b[0mplt\u001b[0m\u001b[0;34m.\u001b[0m\u001b[0mfigure\u001b[0m\u001b[0;34m(\u001b[0m\u001b[0mfigsize\u001b[0m\u001b[0;34m=\u001b[0m\u001b[0;34m(\u001b[0m\u001b[0;36m11\u001b[0m\u001b[0;34m,\u001b[0m \u001b[0;36m5\u001b[0m\u001b[0;34m)\u001b[0m\u001b[0;34m)\u001b[0m\u001b[0;34m\u001b[0m\u001b[0m\n\u001b[0m\u001b[1;32m      2\u001b[0m \u001b[0;32mfor\u001b[0m \u001b[0miter\u001b[0m\u001b[0;34m,\u001b[0m \u001b[0mim\u001b[0m \u001b[0;32min\u001b[0m \u001b[0menumerate\u001b[0m\u001b[0;34m(\u001b[0m\u001b[0mimgs\u001b[0m\u001b[0;34m)\u001b[0m\u001b[0;34m:\u001b[0m\u001b[0;34m\u001b[0m\u001b[0m\n\u001b[1;32m      3\u001b[0m     \u001b[0mplt\u001b[0m\u001b[0;34m.\u001b[0m\u001b[0msubplot\u001b[0m\u001b[0;34m(\u001b[0m\u001b[0;36m2\u001b[0m\u001b[0;34m,\u001b[0m \u001b[0;36m3\u001b[0m\u001b[0;34m,\u001b[0m \u001b[0miter\u001b[0m\u001b[0;34m+\u001b[0m\u001b[0;36m1\u001b[0m\u001b[0;34m)\u001b[0m\u001b[0;34m\u001b[0m\u001b[0m\n\u001b[1;32m      4\u001b[0m     \u001b[0mplt\u001b[0m\u001b[0;34m.\u001b[0m\u001b[0mimshow\u001b[0m\u001b[0;34m(\u001b[0m\u001b[0mim\u001b[0m\u001b[0;34m)\u001b[0m\u001b[0;34m\u001b[0m\u001b[0m\n\u001b[1;32m      5\u001b[0m     \u001b[0mplt\u001b[0m\u001b[0;34m.\u001b[0m\u001b[0mxticks\u001b[0m\u001b[0;34m(\u001b[0m\u001b[0;34m(\u001b[0m\u001b[0;34m)\u001b[0m\u001b[0;34m)\u001b[0m\u001b[0;34m\u001b[0m\u001b[0m\n",
      "\u001b[0;31mNameError\u001b[0m: name 'plt' is not defined"
     ]
    }
   ],
   "source": [
    "plt.figure(figsize=(11, 5))\n",
    "for iter, im in enumerate(imgs):\n",
    "    plt.subplot(2, 3, iter+1)\n",
    "    plt.imshow(im)\n",
    "    plt.xticks(())\n",
    "    plt.yticks(())"
   ]
  },
  {
   "cell_type": "markdown",
   "metadata": {
    "collapsed": true
   },
   "source": [
    "# References\n",
    "\n",
    "---\n",
    "\n",
    "* [wikipedia: optical flow](https://en.wikipedia.org/wiki/Optical_flow)\n",
    "* [visual odometry](https://en.wikipedia.org/wiki/Visual_odometry)\n",
    "* [dead reckoning](https://en.wikipedia.org/wiki/Dead_reckoning)\n",
    "* [Monocular vo](https://github.com/avisingh599/mono-vo)"
   ]
  },
  {
   "cell_type": "markdown",
   "metadata": {},
   "source": [
    "\n",
    "-----------\n",
    "\n",
    "<a rel=\"license\" href=\"http://creativecommons.org/licenses/by-sa/4.0/\"><img alt=\"Creative Commons License\" style=\"border-width:0\" src=\"https://i.creativecommons.org/l/by-sa/4.0/88x31.png\" /></a><br />This work is licensed under a <a rel=\"license\" href=\"http://creativecommons.org/licenses/by-sa/4.0/\">Creative Commons Attribution-ShareAlike 4.0 International License</a>."
   ]
  }
 ],
 "metadata": {
  "kernelspec": {
   "display_name": "Python 2",
   "language": "python",
   "name": "python2"
  },
  "language_info": {
   "codemirror_mode": {
    "name": "ipython",
    "version": 2
   },
   "file_extension": ".py",
   "mimetype": "text/x-python",
   "name": "python",
   "nbconvert_exporter": "python",
   "pygments_lexer": "ipython2",
   "version": "2.7.13"
  }
 },
 "nbformat": 4,
 "nbformat_minor": 2
}
